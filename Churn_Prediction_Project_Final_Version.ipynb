{
 "cells": [
  {
   "cell_type": "markdown",
   "metadata": {
    "id": "SYoy0WP_c2Il"
   },
   "source": [
    "\n",
    "\n",
    "---\n",
    "\n",
    "\n",
    "\n",
    "---\n",
    "\n",
    "\n",
    "# **CHURN PREDICTION PROJECT**\n",
    "\n",
    "The objective of this project aims to predict whether a customer will drop their contract with a telecommunications company"
   ]
  },
  {
   "cell_type": "markdown",
   "metadata": {
    "id": "4pO_2YX2c8-1"
   },
   "source": [
    "\n",
    "\n",
    "---\n",
    "\n",
    "\n",
    "\n",
    "---\n",
    "\n",
    "\n",
    "# **DATA AUDIT, EXPLORATION AND CLEANING**"
   ]
  },
  {
   "cell_type": "code",
   "execution_count": null,
   "metadata": {
    "colab": {
     "base_uri": "https://localhost:8080/"
    },
    "id": "BTAAcIGH1Zda",
    "outputId": "bced7dad-e8ca-4f3b-c7ed-939cd02fdba4"
   },
   "outputs": [
    {
     "name": "stdout",
     "output_type": "stream",
     "text": [
      "The 'CHURN' dataset consists in 5986 rows and 21 columns\n"
     ]
    }
   ],
   "source": [
    "import pandas as pd\n",
    "import numpy as np\n",
    "import matplotlib.pyplot as plt\n",
    "import seaborn as sns\n",
    "\n",
    "import warnings\n",
    "warnings.filterwarnings('ignore')\n",
    "\n",
    "# Import the data\n",
    "df_test = pd.read_csv(r\"https://assets-datascientest.s3-eu-west-1.amazonaws.com/de/total/churn.csv\")\n",
    "\n",
    "# Display the number of rows and columns of the dataset\n",
    "print(\"The 'CHURN' dataset consists in \" + str(df_test.shape[0]) + \" rows and \" + str(df_test.shape[1]) + \" columns\")"
   ]
  },
  {
   "cell_type": "code",
   "execution_count": null,
   "metadata": {
    "colab": {
     "base_uri": "https://localhost:8080/",
     "height": 386
    },
    "id": "7xCsXhuqdIDM",
    "outputId": "fcccaea0-89c8-4457-8f05-8292dc19e08c"
   },
   "outputs": [
    {
     "data": {
      "text/html": [
       "\n",
       "  <div id=\"df-b1cc6463-b700-4e8b-9262-589cfc7c9e86\">\n",
       "    <div class=\"colab-df-container\">\n",
       "      <div>\n",
       "<style scoped>\n",
       "    .dataframe tbody tr th:only-of-type {\n",
       "        vertical-align: middle;\n",
       "    }\n",
       "\n",
       "    .dataframe tbody tr th {\n",
       "        vertical-align: top;\n",
       "    }\n",
       "\n",
       "    .dataframe thead th {\n",
       "        text-align: right;\n",
       "    }\n",
       "</style>\n",
       "<table border=\"1\" class=\"dataframe\">\n",
       "  <thead>\n",
       "    <tr style=\"text-align: right;\">\n",
       "      <th></th>\n",
       "      <th>customerID</th>\n",
       "      <th>gender</th>\n",
       "      <th>SeniorCitizen</th>\n",
       "      <th>Partner</th>\n",
       "      <th>Dependents</th>\n",
       "      <th>tenure</th>\n",
       "      <th>PhoneService</th>\n",
       "      <th>MultipleLines</th>\n",
       "      <th>InternetService</th>\n",
       "      <th>OnlineSecurity</th>\n",
       "      <th>...</th>\n",
       "      <th>DeviceProtection</th>\n",
       "      <th>TechSupport</th>\n",
       "      <th>StreamingTV</th>\n",
       "      <th>StreamingMovies</th>\n",
       "      <th>Contract</th>\n",
       "      <th>PaperlessBilling</th>\n",
       "      <th>PaymentMethod</th>\n",
       "      <th>MonthlyCharges</th>\n",
       "      <th>TotalCharges</th>\n",
       "      <th>Churn</th>\n",
       "    </tr>\n",
       "  </thead>\n",
       "  <tbody>\n",
       "    <tr>\n",
       "      <th>0</th>\n",
       "      <td>7010-BRBUU</td>\n",
       "      <td>Male</td>\n",
       "      <td>0</td>\n",
       "      <td>Yes</td>\n",
       "      <td>Yes</td>\n",
       "      <td>72</td>\n",
       "      <td>Yes</td>\n",
       "      <td>Yes</td>\n",
       "      <td>No</td>\n",
       "      <td>No internet service</td>\n",
       "      <td>...</td>\n",
       "      <td>No internet service</td>\n",
       "      <td>No internet service</td>\n",
       "      <td>No internet service</td>\n",
       "      <td>No internet service</td>\n",
       "      <td>Two year</td>\n",
       "      <td>No</td>\n",
       "      <td>Credit card (automatic)</td>\n",
       "      <td>24.10</td>\n",
       "      <td>1734.65</td>\n",
       "      <td>No</td>\n",
       "    </tr>\n",
       "    <tr>\n",
       "      <th>1</th>\n",
       "      <td>9688-YGXVR</td>\n",
       "      <td>Female</td>\n",
       "      <td>0</td>\n",
       "      <td>No</td>\n",
       "      <td>No</td>\n",
       "      <td>44</td>\n",
       "      <td>Yes</td>\n",
       "      <td>No</td>\n",
       "      <td>Fiber optic</td>\n",
       "      <td>No</td>\n",
       "      <td>...</td>\n",
       "      <td>Yes</td>\n",
       "      <td>No</td>\n",
       "      <td>Yes</td>\n",
       "      <td>No</td>\n",
       "      <td>Month-to-month</td>\n",
       "      <td>Yes</td>\n",
       "      <td>Credit card (automatic)</td>\n",
       "      <td>88.15</td>\n",
       "      <td>3973.2</td>\n",
       "      <td>No</td>\n",
       "    </tr>\n",
       "    <tr>\n",
       "      <th>2</th>\n",
       "      <td>9286-DOJGF</td>\n",
       "      <td>Female</td>\n",
       "      <td>1</td>\n",
       "      <td>Yes</td>\n",
       "      <td>No</td>\n",
       "      <td>38</td>\n",
       "      <td>Yes</td>\n",
       "      <td>Yes</td>\n",
       "      <td>Fiber optic</td>\n",
       "      <td>No</td>\n",
       "      <td>...</td>\n",
       "      <td>No</td>\n",
       "      <td>No</td>\n",
       "      <td>No</td>\n",
       "      <td>No</td>\n",
       "      <td>Month-to-month</td>\n",
       "      <td>Yes</td>\n",
       "      <td>Bank transfer (automatic)</td>\n",
       "      <td>74.95</td>\n",
       "      <td>2869.85</td>\n",
       "      <td>Yes</td>\n",
       "    </tr>\n",
       "    <tr>\n",
       "      <th>3</th>\n",
       "      <td>6994-KERXL</td>\n",
       "      <td>Male</td>\n",
       "      <td>0</td>\n",
       "      <td>No</td>\n",
       "      <td>No</td>\n",
       "      <td>4</td>\n",
       "      <td>Yes</td>\n",
       "      <td>No</td>\n",
       "      <td>DSL</td>\n",
       "      <td>No</td>\n",
       "      <td>...</td>\n",
       "      <td>No</td>\n",
       "      <td>No</td>\n",
       "      <td>No</td>\n",
       "      <td>Yes</td>\n",
       "      <td>Month-to-month</td>\n",
       "      <td>Yes</td>\n",
       "      <td>Electronic check</td>\n",
       "      <td>55.90</td>\n",
       "      <td>238.5</td>\n",
       "      <td>No</td>\n",
       "    </tr>\n",
       "    <tr>\n",
       "      <th>4</th>\n",
       "      <td>2181-UAESM</td>\n",
       "      <td>Male</td>\n",
       "      <td>0</td>\n",
       "      <td>No</td>\n",
       "      <td>No</td>\n",
       "      <td>2</td>\n",
       "      <td>Yes</td>\n",
       "      <td>No</td>\n",
       "      <td>DSL</td>\n",
       "      <td>Yes</td>\n",
       "      <td>...</td>\n",
       "      <td>Yes</td>\n",
       "      <td>No</td>\n",
       "      <td>No</td>\n",
       "      <td>No</td>\n",
       "      <td>Month-to-month</td>\n",
       "      <td>No</td>\n",
       "      <td>Electronic check</td>\n",
       "      <td>53.45</td>\n",
       "      <td>119.5</td>\n",
       "      <td>No</td>\n",
       "    </tr>\n",
       "  </tbody>\n",
       "</table>\n",
       "<p>5 rows × 21 columns</p>\n",
       "</div>\n",
       "      <button class=\"colab-df-convert\" onclick=\"convertToInteractive('df-b1cc6463-b700-4e8b-9262-589cfc7c9e86')\"\n",
       "              title=\"Convert this dataframe to an interactive table.\"\n",
       "              style=\"display:none;\">\n",
       "        \n",
       "  <svg xmlns=\"http://www.w3.org/2000/svg\" height=\"24px\"viewBox=\"0 0 24 24\"\n",
       "       width=\"24px\">\n",
       "    <path d=\"M0 0h24v24H0V0z\" fill=\"none\"/>\n",
       "    <path d=\"M18.56 5.44l.94 2.06.94-2.06 2.06-.94-2.06-.94-.94-2.06-.94 2.06-2.06.94zm-11 1L8.5 8.5l.94-2.06 2.06-.94-2.06-.94L8.5 2.5l-.94 2.06-2.06.94zm10 10l.94 2.06.94-2.06 2.06-.94-2.06-.94-.94-2.06-.94 2.06-2.06.94z\"/><path d=\"M17.41 7.96l-1.37-1.37c-.4-.4-.92-.59-1.43-.59-.52 0-1.04.2-1.43.59L10.3 9.45l-7.72 7.72c-.78.78-.78 2.05 0 2.83L4 21.41c.39.39.9.59 1.41.59.51 0 1.02-.2 1.41-.59l7.78-7.78 2.81-2.81c.8-.78.8-2.07 0-2.86zM5.41 20L4 18.59l7.72-7.72 1.47 1.35L5.41 20z\"/>\n",
       "  </svg>\n",
       "      </button>\n",
       "      \n",
       "  <style>\n",
       "    .colab-df-container {\n",
       "      display:flex;\n",
       "      flex-wrap:wrap;\n",
       "      gap: 12px;\n",
       "    }\n",
       "\n",
       "    .colab-df-convert {\n",
       "      background-color: #E8F0FE;\n",
       "      border: none;\n",
       "      border-radius: 50%;\n",
       "      cursor: pointer;\n",
       "      display: none;\n",
       "      fill: #1967D2;\n",
       "      height: 32px;\n",
       "      padding: 0 0 0 0;\n",
       "      width: 32px;\n",
       "    }\n",
       "\n",
       "    .colab-df-convert:hover {\n",
       "      background-color: #E2EBFA;\n",
       "      box-shadow: 0px 1px 2px rgba(60, 64, 67, 0.3), 0px 1px 3px 1px rgba(60, 64, 67, 0.15);\n",
       "      fill: #174EA6;\n",
       "    }\n",
       "\n",
       "    [theme=dark] .colab-df-convert {\n",
       "      background-color: #3B4455;\n",
       "      fill: #D2E3FC;\n",
       "    }\n",
       "\n",
       "    [theme=dark] .colab-df-convert:hover {\n",
       "      background-color: #434B5C;\n",
       "      box-shadow: 0px 1px 3px 1px rgba(0, 0, 0, 0.15);\n",
       "      filter: drop-shadow(0px 1px 2px rgba(0, 0, 0, 0.3));\n",
       "      fill: #FFFFFF;\n",
       "    }\n",
       "  </style>\n",
       "\n",
       "      <script>\n",
       "        const buttonEl =\n",
       "          document.querySelector('#df-b1cc6463-b700-4e8b-9262-589cfc7c9e86 button.colab-df-convert');\n",
       "        buttonEl.style.display =\n",
       "          google.colab.kernel.accessAllowed ? 'block' : 'none';\n",
       "\n",
       "        async function convertToInteractive(key) {\n",
       "          const element = document.querySelector('#df-b1cc6463-b700-4e8b-9262-589cfc7c9e86');\n",
       "          const dataTable =\n",
       "            await google.colab.kernel.invokeFunction('convertToInteractive',\n",
       "                                                     [key], {});\n",
       "          if (!dataTable) return;\n",
       "\n",
       "          const docLinkHtml = 'Like what you see? Visit the ' +\n",
       "            '<a target=\"_blank\" href=https://colab.research.google.com/notebooks/data_table.ipynb>data table notebook</a>'\n",
       "            + ' to learn more about interactive tables.';\n",
       "          element.innerHTML = '';\n",
       "          dataTable['output_type'] = 'display_data';\n",
       "          await google.colab.output.renderOutput(dataTable, element);\n",
       "          const docLink = document.createElement('div');\n",
       "          docLink.innerHTML = docLinkHtml;\n",
       "          element.appendChild(docLink);\n",
       "        }\n",
       "      </script>\n",
       "    </div>\n",
       "  </div>\n",
       "  "
      ],
      "text/plain": [
       "   customerID  gender  SeniorCitizen Partner Dependents  tenure PhoneService  \\\n",
       "0  7010-BRBUU    Male              0     Yes        Yes      72          Yes   \n",
       "1  9688-YGXVR  Female              0      No         No      44          Yes   \n",
       "2  9286-DOJGF  Female              1     Yes         No      38          Yes   \n",
       "3  6994-KERXL    Male              0      No         No       4          Yes   \n",
       "4  2181-UAESM    Male              0      No         No       2          Yes   \n",
       "\n",
       "  MultipleLines InternetService       OnlineSecurity  ...  \\\n",
       "0           Yes              No  No internet service  ...   \n",
       "1            No     Fiber optic                   No  ...   \n",
       "2           Yes     Fiber optic                   No  ...   \n",
       "3            No             DSL                   No  ...   \n",
       "4            No             DSL                  Yes  ...   \n",
       "\n",
       "      DeviceProtection          TechSupport          StreamingTV  \\\n",
       "0  No internet service  No internet service  No internet service   \n",
       "1                  Yes                   No                  Yes   \n",
       "2                   No                   No                   No   \n",
       "3                   No                   No                   No   \n",
       "4                  Yes                   No                   No   \n",
       "\n",
       "       StreamingMovies        Contract PaperlessBilling  \\\n",
       "0  No internet service        Two year               No   \n",
       "1                   No  Month-to-month              Yes   \n",
       "2                   No  Month-to-month              Yes   \n",
       "3                  Yes  Month-to-month              Yes   \n",
       "4                   No  Month-to-month               No   \n",
       "\n",
       "               PaymentMethod MonthlyCharges  TotalCharges Churn  \n",
       "0    Credit card (automatic)          24.10       1734.65    No  \n",
       "1    Credit card (automatic)          88.15        3973.2    No  \n",
       "2  Bank transfer (automatic)          74.95       2869.85   Yes  \n",
       "3           Electronic check          55.90         238.5    No  \n",
       "4           Electronic check          53.45         119.5    No  \n",
       "\n",
       "[5 rows x 21 columns]"
      ]
     },
     "execution_count": 56,
     "metadata": {},
     "output_type": "execute_result"
    }
   ],
   "source": [
    "# Preview of the 5 first rows of the dataset\n",
    "df_test.head()"
   ]
  },
  {
   "cell_type": "code",
   "execution_count": null,
   "metadata": {
    "colab": {
     "base_uri": "https://localhost:8080/",
     "height": 708
    },
    "id": "w8_-T4rRdL_Y",
    "outputId": "462d9101-e33f-4388-e99d-63187ce15a94"
   },
   "outputs": [
    {
     "data": {
      "text/html": [
       "\n",
       "  <div id=\"df-1976dcbc-83df-45a0-b991-806c5fd3ce80\">\n",
       "    <div class=\"colab-df-container\">\n",
       "      <div>\n",
       "<style scoped>\n",
       "    .dataframe tbody tr th:only-of-type {\n",
       "        vertical-align: middle;\n",
       "    }\n",
       "\n",
       "    .dataframe tbody tr th {\n",
       "        vertical-align: top;\n",
       "    }\n",
       "\n",
       "    .dataframe thead th {\n",
       "        text-align: right;\n",
       "    }\n",
       "</style>\n",
       "<table border=\"1\" class=\"dataframe\">\n",
       "  <thead>\n",
       "    <tr style=\"text-align: right;\">\n",
       "      <th></th>\n",
       "      <th>Column Name</th>\n",
       "      <th>Number of unique values</th>\n",
       "      <th>Unique values</th>\n",
       "    </tr>\n",
       "  </thead>\n",
       "  <tbody>\n",
       "    <tr>\n",
       "      <th>0</th>\n",
       "      <td>customerID</td>\n",
       "      <td>5986</td>\n",
       "      <td>[7010-BRBUU, 9688-YGXVR, 9286-DOJGF, 6994-KERX...</td>\n",
       "    </tr>\n",
       "    <tr>\n",
       "      <th>1</th>\n",
       "      <td>gender</td>\n",
       "      <td>2</td>\n",
       "      <td>[Male, Female]</td>\n",
       "    </tr>\n",
       "    <tr>\n",
       "      <th>2</th>\n",
       "      <td>SeniorCitizen</td>\n",
       "      <td>2</td>\n",
       "      <td>[0, 1]</td>\n",
       "    </tr>\n",
       "    <tr>\n",
       "      <th>3</th>\n",
       "      <td>Partner</td>\n",
       "      <td>2</td>\n",
       "      <td>[Yes, No]</td>\n",
       "    </tr>\n",
       "    <tr>\n",
       "      <th>4</th>\n",
       "      <td>Dependents</td>\n",
       "      <td>2</td>\n",
       "      <td>[Yes, No]</td>\n",
       "    </tr>\n",
       "    <tr>\n",
       "      <th>5</th>\n",
       "      <td>tenure</td>\n",
       "      <td>73</td>\n",
       "      <td>[72, 44, 38, 4, 2, 70, 33, 1, 39, 55, 52, 30, ...</td>\n",
       "    </tr>\n",
       "    <tr>\n",
       "      <th>6</th>\n",
       "      <td>PhoneService</td>\n",
       "      <td>2</td>\n",
       "      <td>[Yes, No]</td>\n",
       "    </tr>\n",
       "    <tr>\n",
       "      <th>7</th>\n",
       "      <td>MultipleLines</td>\n",
       "      <td>3</td>\n",
       "      <td>[Yes, No, No phone service]</td>\n",
       "    </tr>\n",
       "    <tr>\n",
       "      <th>8</th>\n",
       "      <td>InternetService</td>\n",
       "      <td>3</td>\n",
       "      <td>[No, Fiber optic, DSL]</td>\n",
       "    </tr>\n",
       "    <tr>\n",
       "      <th>9</th>\n",
       "      <td>OnlineSecurity</td>\n",
       "      <td>3</td>\n",
       "      <td>[No internet service, No, Yes]</td>\n",
       "    </tr>\n",
       "    <tr>\n",
       "      <th>10</th>\n",
       "      <td>OnlineBackup</td>\n",
       "      <td>3</td>\n",
       "      <td>[No internet service, Yes, No]</td>\n",
       "    </tr>\n",
       "    <tr>\n",
       "      <th>11</th>\n",
       "      <td>DeviceProtection</td>\n",
       "      <td>3</td>\n",
       "      <td>[No internet service, Yes, No]</td>\n",
       "    </tr>\n",
       "    <tr>\n",
       "      <th>12</th>\n",
       "      <td>TechSupport</td>\n",
       "      <td>3</td>\n",
       "      <td>[No internet service, No, Yes]</td>\n",
       "    </tr>\n",
       "    <tr>\n",
       "      <th>13</th>\n",
       "      <td>StreamingTV</td>\n",
       "      <td>3</td>\n",
       "      <td>[No internet service, Yes, No]</td>\n",
       "    </tr>\n",
       "    <tr>\n",
       "      <th>14</th>\n",
       "      <td>StreamingMovies</td>\n",
       "      <td>3</td>\n",
       "      <td>[No internet service, No, Yes]</td>\n",
       "    </tr>\n",
       "    <tr>\n",
       "      <th>15</th>\n",
       "      <td>Contract</td>\n",
       "      <td>3</td>\n",
       "      <td>[Two year, Month-to-month, One year]</td>\n",
       "    </tr>\n",
       "    <tr>\n",
       "      <th>16</th>\n",
       "      <td>PaperlessBilling</td>\n",
       "      <td>2</td>\n",
       "      <td>[No, Yes]</td>\n",
       "    </tr>\n",
       "    <tr>\n",
       "      <th>17</th>\n",
       "      <td>PaymentMethod</td>\n",
       "      <td>4</td>\n",
       "      <td>[Credit card (automatic), Bank transfer (autom...</td>\n",
       "    </tr>\n",
       "    <tr>\n",
       "      <th>18</th>\n",
       "      <td>MonthlyCharges</td>\n",
       "      <td>1526</td>\n",
       "      <td>[24.1, 88.15, 74.95, 55.9, 53.45, 49.85, 90.65...</td>\n",
       "    </tr>\n",
       "    <tr>\n",
       "      <th>19</th>\n",
       "      <td>TotalCharges</td>\n",
       "      <td>5611</td>\n",
       "      <td>[1734.65, 3973.2, 2869.85, 238.5, 119.5, 3370....</td>\n",
       "    </tr>\n",
       "    <tr>\n",
       "      <th>20</th>\n",
       "      <td>Churn</td>\n",
       "      <td>2</td>\n",
       "      <td>[No, Yes]</td>\n",
       "    </tr>\n",
       "  </tbody>\n",
       "</table>\n",
       "</div>\n",
       "      <button class=\"colab-df-convert\" onclick=\"convertToInteractive('df-1976dcbc-83df-45a0-b991-806c5fd3ce80')\"\n",
       "              title=\"Convert this dataframe to an interactive table.\"\n",
       "              style=\"display:none;\">\n",
       "        \n",
       "  <svg xmlns=\"http://www.w3.org/2000/svg\" height=\"24px\"viewBox=\"0 0 24 24\"\n",
       "       width=\"24px\">\n",
       "    <path d=\"M0 0h24v24H0V0z\" fill=\"none\"/>\n",
       "    <path d=\"M18.56 5.44l.94 2.06.94-2.06 2.06-.94-2.06-.94-.94-2.06-.94 2.06-2.06.94zm-11 1L8.5 8.5l.94-2.06 2.06-.94-2.06-.94L8.5 2.5l-.94 2.06-2.06.94zm10 10l.94 2.06.94-2.06 2.06-.94-2.06-.94-.94-2.06-.94 2.06-2.06.94z\"/><path d=\"M17.41 7.96l-1.37-1.37c-.4-.4-.92-.59-1.43-.59-.52 0-1.04.2-1.43.59L10.3 9.45l-7.72 7.72c-.78.78-.78 2.05 0 2.83L4 21.41c.39.39.9.59 1.41.59.51 0 1.02-.2 1.41-.59l7.78-7.78 2.81-2.81c.8-.78.8-2.07 0-2.86zM5.41 20L4 18.59l7.72-7.72 1.47 1.35L5.41 20z\"/>\n",
       "  </svg>\n",
       "      </button>\n",
       "      \n",
       "  <style>\n",
       "    .colab-df-container {\n",
       "      display:flex;\n",
       "      flex-wrap:wrap;\n",
       "      gap: 12px;\n",
       "    }\n",
       "\n",
       "    .colab-df-convert {\n",
       "      background-color: #E8F0FE;\n",
       "      border: none;\n",
       "      border-radius: 50%;\n",
       "      cursor: pointer;\n",
       "      display: none;\n",
       "      fill: #1967D2;\n",
       "      height: 32px;\n",
       "      padding: 0 0 0 0;\n",
       "      width: 32px;\n",
       "    }\n",
       "\n",
       "    .colab-df-convert:hover {\n",
       "      background-color: #E2EBFA;\n",
       "      box-shadow: 0px 1px 2px rgba(60, 64, 67, 0.3), 0px 1px 3px 1px rgba(60, 64, 67, 0.15);\n",
       "      fill: #174EA6;\n",
       "    }\n",
       "\n",
       "    [theme=dark] .colab-df-convert {\n",
       "      background-color: #3B4455;\n",
       "      fill: #D2E3FC;\n",
       "    }\n",
       "\n",
       "    [theme=dark] .colab-df-convert:hover {\n",
       "      background-color: #434B5C;\n",
       "      box-shadow: 0px 1px 3px 1px rgba(0, 0, 0, 0.15);\n",
       "      filter: drop-shadow(0px 1px 2px rgba(0, 0, 0, 0.3));\n",
       "      fill: #FFFFFF;\n",
       "    }\n",
       "  </style>\n",
       "\n",
       "      <script>\n",
       "        const buttonEl =\n",
       "          document.querySelector('#df-1976dcbc-83df-45a0-b991-806c5fd3ce80 button.colab-df-convert');\n",
       "        buttonEl.style.display =\n",
       "          google.colab.kernel.accessAllowed ? 'block' : 'none';\n",
       "\n",
       "        async function convertToInteractive(key) {\n",
       "          const element = document.querySelector('#df-1976dcbc-83df-45a0-b991-806c5fd3ce80');\n",
       "          const dataTable =\n",
       "            await google.colab.kernel.invokeFunction('convertToInteractive',\n",
       "                                                     [key], {});\n",
       "          if (!dataTable) return;\n",
       "\n",
       "          const docLinkHtml = 'Like what you see? Visit the ' +\n",
       "            '<a target=\"_blank\" href=https://colab.research.google.com/notebooks/data_table.ipynb>data table notebook</a>'\n",
       "            + ' to learn more about interactive tables.';\n",
       "          element.innerHTML = '';\n",
       "          dataTable['output_type'] = 'display_data';\n",
       "          await google.colab.output.renderOutput(dataTable, element);\n",
       "          const docLink = document.createElement('div');\n",
       "          docLink.innerHTML = docLinkHtml;\n",
       "          element.appendChild(docLink);\n",
       "        }\n",
       "      </script>\n",
       "    </div>\n",
       "  </div>\n",
       "  "
      ],
      "text/plain": [
       "         Column Name  Number of unique values  \\\n",
       "0         customerID                     5986   \n",
       "1             gender                        2   \n",
       "2      SeniorCitizen                        2   \n",
       "3            Partner                        2   \n",
       "4         Dependents                        2   \n",
       "5             tenure                       73   \n",
       "6       PhoneService                        2   \n",
       "7      MultipleLines                        3   \n",
       "8    InternetService                        3   \n",
       "9     OnlineSecurity                        3   \n",
       "10      OnlineBackup                        3   \n",
       "11  DeviceProtection                        3   \n",
       "12       TechSupport                        3   \n",
       "13       StreamingTV                        3   \n",
       "14   StreamingMovies                        3   \n",
       "15          Contract                        3   \n",
       "16  PaperlessBilling                        2   \n",
       "17     PaymentMethod                        4   \n",
       "18    MonthlyCharges                     1526   \n",
       "19      TotalCharges                     5611   \n",
       "20             Churn                        2   \n",
       "\n",
       "                                        Unique values  \n",
       "0   [7010-BRBUU, 9688-YGXVR, 9286-DOJGF, 6994-KERX...  \n",
       "1                                      [Male, Female]  \n",
       "2                                              [0, 1]  \n",
       "3                                           [Yes, No]  \n",
       "4                                           [Yes, No]  \n",
       "5   [72, 44, 38, 4, 2, 70, 33, 1, 39, 55, 52, 30, ...  \n",
       "6                                           [Yes, No]  \n",
       "7                         [Yes, No, No phone service]  \n",
       "8                              [No, Fiber optic, DSL]  \n",
       "9                      [No internet service, No, Yes]  \n",
       "10                     [No internet service, Yes, No]  \n",
       "11                     [No internet service, Yes, No]  \n",
       "12                     [No internet service, No, Yes]  \n",
       "13                     [No internet service, Yes, No]  \n",
       "14                     [No internet service, No, Yes]  \n",
       "15               [Two year, Month-to-month, One year]  \n",
       "16                                          [No, Yes]  \n",
       "17  [Credit card (automatic), Bank transfer (autom...  \n",
       "18  [24.1, 88.15, 74.95, 55.9, 53.45, 49.85, 90.65...  \n",
       "19  [1734.65, 3973.2, 2869.85, 238.5, 119.5, 3370....  \n",
       "20                                          [No, Yes]  "
      ]
     },
     "execution_count": 57,
     "metadata": {},
     "output_type": "execute_result"
    }
   ],
   "source": [
    "# Construct a dataframe with information about unique values \n",
    "nbrUniqueValueList = []\n",
    "uniqueValueList = []\n",
    "for col in df_test:\n",
    "  nbrUniqueValue = df_test[col].nunique()\n",
    "  uniqueValue = df_test[col].unique()\n",
    "  nbrUniqueValueList.append(nbrUniqueValue)\n",
    "  uniqueValueList.append(uniqueValue)\n",
    "\n",
    "table_unique = pd.DataFrame({\n",
    "  'Column Name': list(df_test.columns),  \n",
    "  'Number of unique values': nbrUniqueValueList,\n",
    "  'Unique values': uniqueValueList\n",
    "})\n",
    "\n",
    "# Display a preview of information about unique values\n",
    "table_unique"
   ]
  },
  {
   "cell_type": "code",
   "execution_count": null,
   "metadata": {
    "colab": {
     "base_uri": "https://localhost:8080/"
    },
    "id": "9nInlEMadQNy",
    "outputId": "1e2ac6da-f8cf-4560-de40-5c9c788784c9"
   },
   "outputs": [
    {
     "name": "stdout",
     "output_type": "stream",
     "text": [
      "<class 'pandas.core.frame.DataFrame'>\n",
      "RangeIndex: 5986 entries, 0 to 5985\n",
      "Data columns (total 21 columns):\n",
      " #   Column            Non-Null Count  Dtype  \n",
      "---  ------            --------------  -----  \n",
      " 0   customerID        5986 non-null   object \n",
      " 1   gender            5986 non-null   object \n",
      " 2   SeniorCitizen     5986 non-null   int64  \n",
      " 3   Partner           5986 non-null   object \n",
      " 4   Dependents        5986 non-null   object \n",
      " 5   tenure            5986 non-null   int64  \n",
      " 6   PhoneService      5986 non-null   object \n",
      " 7   MultipleLines     5986 non-null   object \n",
      " 8   InternetService   5986 non-null   object \n",
      " 9   OnlineSecurity    5986 non-null   object \n",
      " 10  OnlineBackup      5986 non-null   object \n",
      " 11  DeviceProtection  5986 non-null   object \n",
      " 12  TechSupport       5986 non-null   object \n",
      " 13  StreamingTV       5986 non-null   object \n",
      " 14  StreamingMovies   5986 non-null   object \n",
      " 15  Contract          5986 non-null   object \n",
      " 16  PaperlessBilling  5986 non-null   object \n",
      " 17  PaymentMethod     5986 non-null   object \n",
      " 18  MonthlyCharges    5986 non-null   float64\n",
      " 19  TotalCharges      5986 non-null   object \n",
      " 20  Churn             5986 non-null   object \n",
      "dtypes: float64(1), int64(2), object(18)\n",
      "memory usage: 982.2+ KB\n"
     ]
    }
   ],
   "source": [
    "# Display the information of the data columns \n",
    "df_test.info(verbose=True)"
   ]
  },
  {
   "cell_type": "markdown",
   "metadata": {
    "id": "CNNrDb7PdTm9"
   },
   "source": [
    "**NOTE :** Most of the variables are of categorical type with a number of unique value between 2 and 4. The variable \"TotalCharges\" seems to be of numerical type (with 5611 unique values) but some values as categorical, so we need to redefine the type of those variables. To keep consistent to the others categorical variables, 'SeniorCitizens' is also redefined as categorical type."
   ]
  },
  {
   "cell_type": "code",
   "execution_count": null,
   "metadata": {
    "colab": {
     "base_uri": "https://localhost:8080/"
    },
    "id": "XG9xCUjwdWtp",
    "outputId": "2322462c-0db2-4755-bd70-e2ebbb7cb831"
   },
   "outputs": [
    {
     "name": "stdout",
     "output_type": "stream",
     "text": [
      "could not convert string to float: \n"
     ]
    }
   ],
   "source": [
    "# Convert \"SeniorCitizens\" type as object\n",
    "df_test = df_test.astype({'SeniorCitizen': np.str})\n",
    "df_test['SeniorCitizen'] = df_test['SeniorCitizen'].replace({\"0\" : \"No\", \"1\" : \"Yes\"})\n",
    "\n",
    "# Convert \"TotalCharges\" type to float\n",
    "try:  \n",
    "  df_test = df_test.astype({'TotalCharges': np.float})\n",
    "except Exception as error: \n",
    "    print(error)"
   ]
  },
  {
   "cell_type": "markdown",
   "metadata": {
    "id": "svjWTYbUdZ6b"
   },
   "source": [
    "**NOTE :** The attempt to redefine the type of the variable \"TotalCharge\" fails and returns the error message \"could not convert string to float: \". That is means one or several values contain an empty string or containing characters (in our case, it corresponds to whitespace character according to the error message returned).  "
   ]
  },
  {
   "cell_type": "code",
   "execution_count": null,
   "metadata": {
    "colab": {
     "base_uri": "https://localhost:8080/"
    },
    "id": "vw09qW0QddGJ",
    "outputId": "053f8cee-d0cd-4886-e41a-d14b2b344d77"
   },
   "outputs": [
    {
     "name": "stdout",
     "output_type": "stream",
     "text": [
      "The 'TotalCharges' columns contains 10 empty values or containing only whitespace characters.\n",
      "Row index of concerned values : [356, 634, 2771, 3086, 3255, 4326, 5375, 5382, 5695, 5951]\n"
     ]
    }
   ],
   "source": [
    "empty_space_idx = []\n",
    "\n",
    "for index, char in enumerate(df_test['TotalCharges']):\n",
    "  if len(char) == 0 | char.isspace():\n",
    "    empty_space_idx.append(index)\n",
    "    \n",
    "print(\"The 'TotalCharges' columns contains \" + str(len(empty_space_idx)) + \" empty values or containing only whitespace characters.\")\n",
    "\n",
    "print(\"Row index of concerned values : \" + str(empty_space_idx))"
   ]
  },
  {
   "cell_type": "markdown",
   "metadata": {
    "id": "JWF_hKRKdfwO"
   },
   "source": [
    "**NOTE :** The number of empty values or containing only whitespace characters is not important. So we can drop all rows concern and convert the column type to 'float'. "
   ]
  },
  {
   "cell_type": "code",
   "execution_count": null,
   "metadata": {
    "colab": {
     "base_uri": "https://localhost:8080/"
    },
    "id": "8_cvfa94diy4",
    "outputId": "51d1d309-e629-4df5-9942-8a6aed51c4fa"
   },
   "outputs": [
    {
     "name": "stdout",
     "output_type": "stream",
     "text": [
      "<class 'pandas.core.frame.DataFrame'>\n",
      "Int64Index: 5976 entries, 0 to 5985\n",
      "Data columns (total 21 columns):\n",
      " #   Column            Non-Null Count  Dtype  \n",
      "---  ------            --------------  -----  \n",
      " 0   customerID        5976 non-null   object \n",
      " 1   gender            5976 non-null   object \n",
      " 2   SeniorCitizen     5976 non-null   object \n",
      " 3   Partner           5976 non-null   object \n",
      " 4   Dependents        5976 non-null   object \n",
      " 5   tenure            5976 non-null   int64  \n",
      " 6   PhoneService      5976 non-null   object \n",
      " 7   MultipleLines     5976 non-null   object \n",
      " 8   InternetService   5976 non-null   object \n",
      " 9   OnlineSecurity    5976 non-null   object \n",
      " 10  OnlineBackup      5976 non-null   object \n",
      " 11  DeviceProtection  5976 non-null   object \n",
      " 12  TechSupport       5976 non-null   object \n",
      " 13  StreamingTV       5976 non-null   object \n",
      " 14  StreamingMovies   5976 non-null   object \n",
      " 15  Contract          5976 non-null   object \n",
      " 16  PaperlessBilling  5976 non-null   object \n",
      " 17  PaymentMethod     5976 non-null   object \n",
      " 18  MonthlyCharges    5976 non-null   float64\n",
      " 19  TotalCharges      5976 non-null   float64\n",
      " 20  Churn             5976 non-null   object \n",
      "dtypes: float64(2), int64(1), object(18)\n",
      "memory usage: 1.0+ MB\n"
     ]
    }
   ],
   "source": [
    "df_test = df_test.drop(df_test.index[empty_space_idx])\n",
    "\n",
    "try:  \n",
    "  df_test = df_test.astype({'TotalCharges': np.float})\n",
    "except Exception as error: \n",
    "    print(error)\n",
    "\n",
    "# Display the information of the data columns \n",
    "df_test.info(verbose=True)"
   ]
  },
  {
   "cell_type": "markdown",
   "metadata": {
    "id": "R0UbAvlVdmaB"
   },
   "source": [
    "**NOTE :** Now our dataset is clean and ready for data analysis and visualization part. We have 18 variables of categorical type and 3 variables of numerical type. "
   ]
  },
  {
   "cell_type": "markdown",
   "metadata": {
    "id": "ScUxLDF9dpQ3"
   },
   "source": [
    "\n",
    "\n",
    "---\n",
    "\n",
    "# **DATA ANALYSIS AND VISUALIZATION**\n"
   ]
  },
  {
   "cell_type": "code",
   "execution_count": null,
   "metadata": {
    "colab": {
     "base_uri": "https://localhost:8080/",
     "height": 373
    },
    "id": "noR8LUABdr7w",
    "outputId": "abb243b2-5409-4c8f-b6d5-ddaff08dfcb0"
   },
   "outputs": [
    {
     "data": {
      "image/png": "[encoded data removed]",
      "text/plain": [
       "<Figure size 432x432 with 1 Axes>"
      ]
     },
     "metadata": {},
     "output_type": "display_data"
    }
   ],
   "source": [
    "churnCounts = df_test['Churn'].value_counts(sort = True)\n",
    "churnLabels = np.unique(df_test['Churn'])\n",
    "\n",
    "# Visualize the target variable distribution (\"Churn\")\n",
    "plt.figure(figsize = (6,6))\n",
    "plt.title(\"CUSTOMER CHURN RATE\")\n",
    "plt.pie(churnCounts, labels = churnLabels, autopct='%1.1f%%',textprops={'fontsize': 14})\n",
    "plt.show()"
   ]
  },
  {
   "cell_type": "markdown",
   "metadata": {
    "id": "loXDUAX7dviP"
   },
   "source": [
    "**NOTE :** Among the 5976 customers listed, a little over a quarter have recently terminated their contract with their telecommunication company."
   ]
  },
  {
   "cell_type": "code",
   "execution_count": null,
   "metadata": {
    "colab": {
     "base_uri": "https://localhost:8080/",
     "height": 300
    },
    "id": "4dRGFgrAdyJn",
    "outputId": "5cea64b5-1186-49fd-9eb2-7d9521d5c788"
   },
   "outputs": [
    {
     "data": {
      "text/html": [
       "\n",
       "  <div id=\"df-9ac835be-c6dc-4182-8920-4feb15d20f8e\">\n",
       "    <div class=\"colab-df-container\">\n",
       "      <div>\n",
       "<style scoped>\n",
       "    .dataframe tbody tr th:only-of-type {\n",
       "        vertical-align: middle;\n",
       "    }\n",
       "\n",
       "    .dataframe tbody tr th {\n",
       "        vertical-align: top;\n",
       "    }\n",
       "\n",
       "    .dataframe thead th {\n",
       "        text-align: right;\n",
       "    }\n",
       "</style>\n",
       "<table border=\"1\" class=\"dataframe\">\n",
       "  <thead>\n",
       "    <tr style=\"text-align: right;\">\n",
       "      <th></th>\n",
       "      <th>tenure</th>\n",
       "      <th>MonthlyCharges</th>\n",
       "      <th>TotalCharges</th>\n",
       "    </tr>\n",
       "  </thead>\n",
       "  <tbody>\n",
       "    <tr>\n",
       "      <th>count</th>\n",
       "      <td>5976.000000</td>\n",
       "      <td>5976.000000</td>\n",
       "      <td>5976.000000</td>\n",
       "    </tr>\n",
       "    <tr>\n",
       "      <th>mean</th>\n",
       "      <td>32.523092</td>\n",
       "      <td>64.846687</td>\n",
       "      <td>2298.060617</td>\n",
       "    </tr>\n",
       "    <tr>\n",
       "      <th>std</th>\n",
       "      <td>24.500858</td>\n",
       "      <td>30.107576</td>\n",
       "      <td>2274.127165</td>\n",
       "    </tr>\n",
       "    <tr>\n",
       "      <th>min</th>\n",
       "      <td>1.000000</td>\n",
       "      <td>18.250000</td>\n",
       "      <td>18.800000</td>\n",
       "    </tr>\n",
       "    <tr>\n",
       "      <th>25%</th>\n",
       "      <td>9.000000</td>\n",
       "      <td>35.750000</td>\n",
       "      <td>404.312500</td>\n",
       "    </tr>\n",
       "    <tr>\n",
       "      <th>50%</th>\n",
       "      <td>29.000000</td>\n",
       "      <td>70.425000</td>\n",
       "      <td>1412.150000</td>\n",
       "    </tr>\n",
       "    <tr>\n",
       "      <th>75%</th>\n",
       "      <td>56.000000</td>\n",
       "      <td>89.900000</td>\n",
       "      <td>3846.962500</td>\n",
       "    </tr>\n",
       "    <tr>\n",
       "      <th>max</th>\n",
       "      <td>72.000000</td>\n",
       "      <td>118.750000</td>\n",
       "      <td>8684.800000</td>\n",
       "    </tr>\n",
       "  </tbody>\n",
       "</table>\n",
       "</div>\n",
       "      <button class=\"colab-df-convert\" onclick=\"convertToInteractive('df-9ac835be-c6dc-4182-8920-4feb15d20f8e')\"\n",
       "              title=\"Convert this dataframe to an interactive table.\"\n",
       "              style=\"display:none;\">\n",
       "        \n",
       "  <svg xmlns=\"http://www.w3.org/2000/svg\" height=\"24px\"viewBox=\"0 0 24 24\"\n",
       "       width=\"24px\">\n",
       "    <path d=\"M0 0h24v24H0V0z\" fill=\"none\"/>\n",
       "    <path d=\"M18.56 5.44l.94 2.06.94-2.06 2.06-.94-2.06-.94-.94-2.06-.94 2.06-2.06.94zm-11 1L8.5 8.5l.94-2.06 2.06-.94-2.06-.94L8.5 2.5l-.94 2.06-2.06.94zm10 10l.94 2.06.94-2.06 2.06-.94-2.06-.94-.94-2.06-.94 2.06-2.06.94z\"/><path d=\"M17.41 7.96l-1.37-1.37c-.4-.4-.92-.59-1.43-.59-.52 0-1.04.2-1.43.59L10.3 9.45l-7.72 7.72c-.78.78-.78 2.05 0 2.83L4 21.41c.39.39.9.59 1.41.59.51 0 1.02-.2 1.41-.59l7.78-7.78 2.81-2.81c.8-.78.8-2.07 0-2.86zM5.41 20L4 18.59l7.72-7.72 1.47 1.35L5.41 20z\"/>\n",
       "  </svg>\n",
       "      </button>\n",
       "      \n",
       "  <style>\n",
       "    .colab-df-container {\n",
       "      display:flex;\n",
       "      flex-wrap:wrap;\n",
       "      gap: 12px;\n",
       "    }\n",
       "\n",
       "    .colab-df-convert {\n",
       "      background-color: #E8F0FE;\n",
       "      border: none;\n",
       "      border-radius: 50%;\n",
       "      cursor: pointer;\n",
       "      display: none;\n",
       "      fill: #1967D2;\n",
       "      height: 32px;\n",
       "      padding: 0 0 0 0;\n",
       "      width: 32px;\n",
       "    }\n",
       "\n",
       "    .colab-df-convert:hover {\n",
       "      background-color: #E2EBFA;\n",
       "      box-shadow: 0px 1px 2px rgba(60, 64, 67, 0.3), 0px 1px 3px 1px rgba(60, 64, 67, 0.15);\n",
       "      fill: #174EA6;\n",
       "    }\n",
       "\n",
       "    [theme=dark] .colab-df-convert {\n",
       "      background-color: #3B4455;\n",
       "      fill: #D2E3FC;\n",
       "    }\n",
       "\n",
       "    [theme=dark] .colab-df-convert:hover {\n",
       "      background-color: #434B5C;\n",
       "      box-shadow: 0px 1px 3px 1px rgba(0, 0, 0, 0.15);\n",
       "      filter: drop-shadow(0px 1px 2px rgba(0, 0, 0, 0.3));\n",
       "      fill: #FFFFFF;\n",
       "    }\n",
       "  </style>\n",
       "\n",
       "      <script>\n",
       "        const buttonEl =\n",
       "          document.querySelector('#df-9ac835be-c6dc-4182-8920-4feb15d20f8e button.colab-df-convert');\n",
       "        buttonEl.style.display =\n",
       "          google.colab.kernel.accessAllowed ? 'block' : 'none';\n",
       "\n",
       "        async function convertToInteractive(key) {\n",
       "          const element = document.querySelector('#df-9ac835be-c6dc-4182-8920-4feb15d20f8e');\n",
       "          const dataTable =\n",
       "            await google.colab.kernel.invokeFunction('convertToInteractive',\n",
       "                                                     [key], {});\n",
       "          if (!dataTable) return;\n",
       "\n",
       "          const docLinkHtml = 'Like what you see? Visit the ' +\n",
       "            '<a target=\"_blank\" href=https://colab.research.google.com/notebooks/data_table.ipynb>data table notebook</a>'\n",
       "            + ' to learn more about interactive tables.';\n",
       "          element.innerHTML = '';\n",
       "          dataTable['output_type'] = 'display_data';\n",
       "          await google.colab.output.renderOutput(dataTable, element);\n",
       "          const docLink = document.createElement('div');\n",
       "          docLink.innerHTML = docLinkHtml;\n",
       "          element.appendChild(docLink);\n",
       "        }\n",
       "      </script>\n",
       "    </div>\n",
       "  </div>\n",
       "  "
      ],
      "text/plain": [
       "            tenure  MonthlyCharges  TotalCharges\n",
       "count  5976.000000     5976.000000   5976.000000\n",
       "mean     32.523092       64.846687   2298.060617\n",
       "std      24.500858       30.107576   2274.127165\n",
       "min       1.000000       18.250000     18.800000\n",
       "25%       9.000000       35.750000    404.312500\n",
       "50%      29.000000       70.425000   1412.150000\n",
       "75%      56.000000       89.900000   3846.962500\n",
       "max      72.000000      118.750000   8684.800000"
      ]
     },
     "execution_count": 63,
     "metadata": {},
     "output_type": "execute_result"
    }
   ],
   "source": [
    "# Display the statistical summary of the dataframe (numerical type variables)\n",
    "df_test.describe()"
   ]
  },
  {
   "cell_type": "markdown",
   "metadata": {
    "id": "jXKrJja0d17c"
   },
   "source": [
    "**NOTE :** The values of the numerical dataset seem consistent (without outliers). The data dispersion for each parameter is quite important. Also we can note that one in two customers pays an invoice over 70$ per month, and a quarter remains under contract for less than a year."
   ]
  },
  {
   "cell_type": "code",
   "execution_count": null,
   "metadata": {
    "colab": {
     "base_uri": "https://localhost:8080/",
     "height": 548
    },
    "id": "oxyzVDqud4Oo",
    "outputId": "f1eeb2ab-2bcc-49a3-efb0-b51c13d5e969"
   },
   "outputs": [
    {
     "data": {
      "image/png": "[encoded data removed]",
      "text/plain": [
       "<Figure size 597.475x540 with 12 Axes>"
      ]
     },
     "metadata": {},
     "output_type": "display_data"
    }
   ],
   "source": [
    "# Plot pairwise relationships in a dataset\n",
    "pp = sns.pairplot(df_test, hue = 'Churn')"
   ]
  },
  {
   "cell_type": "markdown",
   "metadata": {
    "id": "wEM_HMcJd9YD"
   },
   "source": [
    "**NOTE :** Most of the customers who have churned recently have paid important monthly charges. Globally, they remained under contract less than a year. As the total charges is related to these two variables (the more the customer remains under contract, the more the total charges increase), it make sense that the total charges for these people is low.   "
   ]
  },
  {
   "cell_type": "code",
   "execution_count": null,
   "metadata": {
    "colab": {
     "base_uri": "https://localhost:8080/",
     "height": 1000
    },
    "id": "4PKZV3TCeAEr",
    "outputId": "d8edbc99-c43c-40d9-ab4c-a30bdd0208ba"
   },
   "outputs": [
    {
     "data": {
      "image/png": "[encoded data removed]",
      "text/plain": [
       "<Figure size 1440x1800 with 16 Axes>"
      ]
     },
     "metadata": {},
     "output_type": "display_data"
    }
   ],
   "source": [
    "plt.figure(figsize=(20, 25))\n",
    "plt.subplots_adjust(wspace=0.5, hspace=0.5)\n",
    "\n",
    "categorical_columns1 = list(df_test.select_dtypes([\"object\"]).columns)\n",
    "categorical_columns1.remove('customerID')\n",
    "categorical_columns1.remove('Churn')\n",
    "\n",
    "for i in range(len(categorical_columns1)):\n",
    "    plt.subplot(6, 4, i+1)\n",
    "    fig = sns.countplot(df_test[categorical_columns1[i]], hue=df_test['Churn'])\n",
    "    fig.tick_params(axis='x', rotation=30)\n",
    "    fig.grid()\n",
    "\n",
    "plt.show()"
   ]
  },
  {
   "cell_type": "markdown",
   "metadata": {
    "id": "TV1pKo-8eDkO"
   },
   "source": [
    "**NOTE :** The analysis of the categorical variables distribution indicates that the gender is balanced, and so this variable can be dropped from our dataset as it does not impact the target variable (i.e. 'Churn'). For the rest of the variables, distributions are not homogeneous and have to be considered in the model training evaluation. We can note also that the typical profile of the customer who churn is, from a social point of view, a \"junior\" citizen without partner and independant. These people have generally subscribed to a combination \"Phone+Internet\" month-to-month contract without extra internet services (online security, online backup, device protection and technical support). They have generally choosen the electronic invoice (i.e. PaperlessBilling) with electronic check payment method. The fact that they used streaming services (TV and/or Movies) does not seem to affect their contract termination.     "
   ]
  },
  {
   "cell_type": "code",
   "execution_count": null,
   "metadata": {
    "colab": {
     "base_uri": "https://localhost:8080/",
     "height": 339
    },
    "id": "Y7Klfpz3eF99",
    "outputId": "977030d6-20bc-4944-9637-897a25e66b36"
   },
   "outputs": [
    {
     "data": {
      "image/png": "[encoded data removed]",
      "text/plain": [
       "<Figure size 720x360 with 2 Axes>"
      ]
     },
     "metadata": {},
     "output_type": "display_data"
    }
   ],
   "source": [
    "fig, axes = plt.subplots(1, 2, figsize=(10,5))\n",
    "fig = sns.histplot(ax=axes[0], x=df_test['MonthlyCharges'], hue=df_test['InternetService'], bins=20) \n",
    "fig.grid()\n",
    "\n",
    "fig = sns.boxplot(ax=axes[1], x=df_test['InternetService'], y=df_test['MonthlyCharges'])\n",
    "fig.grid()"
   ]
  },
  {
   "cell_type": "markdown",
   "metadata": {
    "id": "zDOsg00veI0i"
   },
   "source": [
    "**NOTE :** As previously shown, the monthly charge has a multimodal distribution. Each mode can easily be associated to the Internet service values (No, Fiber Optic or DSL). It make sense that more the service is important, higher is the charge. Also as the typical customer who resiliated their contract has a Fiber Optic INternet service, it makes sense their monthly charges are important."
   ]
  },
  {
   "cell_type": "code",
   "execution_count": null,
   "metadata": {
    "colab": {
     "base_uri": "https://localhost:8080/",
     "height": 395
    },
    "id": "hs7fgu37eM2c",
    "outputId": "b4bcf6bf-072c-4e36-80f8-df2b6ed3f9e3"
   },
   "outputs": [
    {
     "data": {
      "image/png": "[encoded data removed]",
      "text/plain": [
       "<Figure size 432x432 with 2 Axes>"
      ]
     },
     "metadata": {},
     "output_type": "display_data"
    }
   ],
   "source": [
    "lchurn = []\n",
    "dataLength = []\n",
    "for tenureValue in range(1,72): \n",
    "  df_typicalChurnProfile = df_test[(df_test['SeniorCitizen'] == 'No') & \n",
    "                                 (df_test['Partner'] == 'No') &\n",
    "                                 (df_test['Dependents'] == 'No') &\n",
    "                                 (df_test['PhoneService'] == 'Yes') &\n",
    "                                 (df_test['InternetService'] == 'Fiber optic') & \n",
    "                                 (df_test['OnlineSecurity'] == 'No') &\n",
    "                                 (df_test['OnlineBackup'] == 'No') &\n",
    "                                 (df_test['DeviceProtection'] == 'No') &\n",
    "                                 (df_test['TechSupport'] == 'No') & \n",
    "                                 (df_test['PaperlessBilling'] == 'Yes') &\n",
    "                                 (df_test['PaymentMethod'] == 'Electronic check') &\n",
    "                                 (df_test['tenure'] <= tenureValue)]\n",
    "\n",
    "  dataLength.append(len(df_typicalChurnProfile['Churn']))\n",
    "  churnCounts = df_typicalChurnProfile['Churn'].value_counts(normalize=True)\n",
    "  lchurn.append(churnCounts[0]*100)\n",
    "\n",
    "sns.set()\n",
    "plt.figure(figsize=(6,6))\n",
    "ax = plt.subplot()\n",
    "plt.plot(range(1,72), lchurn, color=\"red\")\n",
    "ax.set_xlabel(\"Tenure [month]\", fontsize = 14)\n",
    "ax.set_ylabel(\"Quantity of ustomer who churn [%]\",color=\"red\",fontsize=14)\n",
    "ax2 = ax.twinx()\n",
    "plt.plot(range(1,72), dataLength, color=\"blue\")\n",
    "ax2.set_ylabel(\"Total number of \\ntypical customer profile\",color=\"blue\",fontsize=14)\n",
    "plt.show()"
   ]
  },
  {
   "cell_type": "markdown",
   "metadata": {
    "id": "pBBQBPB6eRTj"
   },
   "source": [
    "**NOTE :** Isolating the typical customer profile who stopped their contract, we can note that 80% of them resiliated their contract under the 5 first months. Also whatever the tenure, more than 2 in 3 customers with this kind of profile have stopped their contract. "
   ]
  },
  {
   "cell_type": "markdown",
   "metadata": {
    "id": "5CRb3deJeTZU"
   },
   "source": [
    "# **TRAINING AND EVALUATION OF MACHINE LEARNING MODELS**\n",
    "\n",
    "\n"
   ]
  },
  {
   "cell_type": "code",
   "execution_count": null,
   "metadata": {
    "id": "1qyJkrm7gX_S"
   },
   "outputs": [],
   "source": [
    "# Removing non significant variables\n",
    "df_test = df_test.drop(columns=['customerID', 'gender'], axis=1)\n",
    "\n",
    "# Data splitting (response : y_init = \"Churn\" variable, predictors : X_init = others variables)\n",
    "target_name = \"Churn\"\n",
    "y_init = df_test[target_name]\n",
    "X_init = df_test.drop(columns=[target_name]) "
   ]
  },
  {
   "cell_type": "markdown",
   "metadata": {
    "id": "zoqIe_6GgdMG"
   },
   "source": [
    "**DATA BALANCING : RANDOM OVER SAMPLING TECHNIQUE**"
   ]
  },
  {
   "cell_type": "markdown",
   "metadata": {
    "id": "55bLfVPVfn5p"
   },
   "source": [
    "From litterature, it is indicated that most models trained on unbalanced data could have a bias towards predicting the larger class and, in many cases, may ignore the smaller class altogether. As a result, the instances belonging to the smaller classes are typically misclassified more often than those belonging to the larger class. A widely adopted technique for dealing with unbalanced datasets is called resampling. It consists of removing samples from the majority class (under-sampling) and/or adding more examples from the minority class (over-sampling). Several resampling techniques exist, however only one technique is used here and applied to our dataset : the RandomOverSampler."
   ]
  },
  {
   "cell_type": "code",
   "execution_count": null,
   "metadata": {
    "colab": {
     "base_uri": "https://localhost:8080/",
     "height": 427
    },
    "id": "PgMPYwLmeVmM",
    "outputId": "f0ce6a74-da85-443e-d7f0-92791d19c217"
   },
   "outputs": [
    {
     "data": {
      "image/png": "[encoded data removed]",
      "text/plain": [
       "<Figure size 504x504 with 1 Axes>"
      ]
     },
     "metadata": {},
     "output_type": "display_data"
    }
   ],
   "source": [
    "from imblearn.over_sampling import RandomOverSampler\n",
    "oversample = RandomOverSampler(sampling_strategy='minority')\n",
    "X_over, y_over = oversample.fit_resample(X_init,y_init)\n",
    "\n",
    "churnCounts = y_over.value_counts(sort = True)\n",
    "\n",
    "# Visualize the target variable distribution (\"Churn\") after resampling\n",
    "plt.figure(figsize = (7,7))\n",
    "plt.title(\"CUSTOMER CHURN RATE RESAMPLED ('OVERSAMPLING')\")\n",
    "plt.pie(churnCounts, labels = churnLabels, autopct='%1.1f%%',textprops={'fontsize': 14})\n",
    "plt.show()"
   ]
  },
  {
   "cell_type": "code",
   "execution_count": null,
   "metadata": {
    "id": "WTjwczxveYig"
   },
   "outputs": [],
   "source": [
    "# Use of \"One Hot Encoding\" for categorical variables and \"Standard Scaler\" for standardization of numerical ones\n",
    "from sklearn.preprocessing import OneHotEncoder, StandardScaler \n",
    "from sklearn.compose import make_column_selector\n",
    "\n",
    "# Split numerical and categorical variables into two datasets\n",
    "numerical_columns_selector = make_column_selector(dtype_exclude=object) \n",
    "categorical_columns_selector = make_column_selector(dtype_include=object)\n",
    "numerical_columns = numerical_columns_selector(X_init) \n",
    "categorical_columns = categorical_columns_selector(X_init)\n",
    "\n",
    "# Apply columns encoding using Column Transformer\n",
    "from sklearn.compose import ColumnTransformer\n",
    "\n",
    "preprocessor = ColumnTransformer([ ('one-hot-encoder', OneHotEncoder(handle_unknown=\"ignore\"), categorical_columns), \n",
    "                                  ('standard_scaler', StandardScaler(), numerical_columns)])\n"
   ]
  },
  {
   "cell_type": "markdown",
   "metadata": {
    "id": "JeMvMfPTecwe"
   },
   "source": [
    "**COMPARISON OF CLASSIFIERS WITH DEFAULT HYPERPARAMETERS AND USING THE BALANCED AND UNBALANCED DATASET**\n",
    "\n",
    "The part below aims to evaluate the model performances on our dataset without hyperparameter tuning first. Here 9 classifier algorithms have been selected. According to the results, it will provide us a baseline to go deeper inside the analysis and try to further improve the results of the model with the best results."
   ]
  },
  {
   "cell_type": "code",
   "execution_count": null,
   "metadata": {
    "id": "Xx1ZNbYWegIF"
   },
   "outputs": [],
   "source": [
    "from sklearn.linear_model import LogisticRegression \n",
    "from sklearn.ensemble import RandomForestClassifier, AdaBoostClassifier, GradientBoostingClassifier\n",
    "from sklearn.neighbors import KNeighborsClassifier\n",
    "from sklearn.svm import SVC, LinearSVC\n",
    "from sklearn.tree import DecisionTreeClassifier\n",
    "from sklearn.naive_bayes import GaussianNB\n",
    "\n",
    "from sklearn.metrics import f1_score, classification_report\n",
    "\n",
    "from sklearn.pipeline import make_pipeline\n",
    "\n",
    "from sklearn.model_selection import train_test_split, cross_validate \n",
    "\n",
    "# List of classifiers to evaluate \n",
    "classifiersAlgorithm = [\n",
    "LogisticRegression(random_state=42),\n",
    "KNeighborsClassifier(),\n",
    "SVC(random_state=42),\n",
    "DecisionTreeClassifier(random_state=42),\n",
    "RandomForestClassifier(random_state=42),\n",
    "AdaBoostClassifier(random_state=42),\n",
    "GradientBoostingClassifier(random_state=42),\n",
    "LinearSVC(random_state=42),\n",
    "GaussianNB()\n",
    "]\n",
    "\n",
    "# List of classifiers name (visualization purpose)\n",
    "classifiersLabel = [\n",
    "'Logistic Regression',\n",
    "'K-Neighbors',\n",
    "'Support Vector',\n",
    "'Decision Tree',\n",
    "'Random Forest',\n",
    "'AdaBoost',\n",
    "'Gradient Boosting',\n",
    "'Linear SVC',\n",
    "'Gaussian Naive Bayes'\n",
    "]"
   ]
  },
  {
   "cell_type": "code",
   "execution_count": null,
   "metadata": {
    "id": "3aXmTFflejdH"
   },
   "outputs": [],
   "source": [
    "# Empty list in which we append the model score\n",
    "model_scores = []\n",
    "model_f1 = []\n",
    "model_no_precision = []\n",
    "model_no_recall = []\n",
    "model_yes_precision = []\n",
    "model_yes_recall = []\n",
    "\n",
    "# Loop through the different classifier algorithms \n",
    "for classifier in classifiersAlgorithm:  \n",
    "  model = make_pipeline(preprocessor, classifier)\n",
    "  X_train, X_test, y_train, y_test = train_test_split(X_over, y_over, test_size=0.2, random_state=42)\n",
    "  model.fit(X_train, y_train) \n",
    "  y_predict_model = model.predict(X_test)\n",
    "  cv_results = cross_validate(model, X_over, y_over)\n",
    "  scores = cv_results[\"test_score\"]\n",
    "  model_scores.append(scores.mean())\n",
    "    \n",
    "  report = classification_report(y_test, y_predict_model,output_dict=True)\n",
    "  model_f1.append(report['accuracy'])\n",
    "  model_no_precision.append(report['No']['precision'])\n",
    "  model_no_recall.append(report['No']['recall'])\n",
    "  model_yes_precision.append(report['Yes']['precision'])\n",
    "  model_yes_recall.append(report['Yes']['recall'])\n",
    "\n",
    "# Dataframe to store the model scores and model associated\n",
    "model_performance = pd.DataFrame({\n",
    "  'Classifier': classifiersLabel,  \n",
    "  'Mean CV Accuracy' : model_scores,\n",
    "  'F1-Score Accuracy' : model_f1,\n",
    "  'No - Precision' : model_no_precision,\n",
    "  'No - Recall' : model_no_recall,\n",
    "  'Yes - Precision' : model_yes_precision,\n",
    "  'Yes - Recall' : model_yes_recall\n",
    "}).sort_values('F1-Score Accuracy', ascending = False, ignore_index=True)\n",
    "\n",
    "model_performance_with_oversampling = model_performance"
   ]
  },
  {
   "cell_type": "code",
   "execution_count": null,
   "metadata": {},
   "outputs": [],
   "source": []
  },
  {
   "cell_type": "code",
   "execution_count": null,
   "metadata": {
    "id": "HeviB-G3emZ_"
   },
   "outputs": [],
   "source": [
    "# Empty list in which we append the model score\n",
    "model_scores = []\n",
    "model_f1 = []\n",
    "model_no_precision = []\n",
    "model_no_recall = []\n",
    "model_yes_precision = []\n",
    "model_yes_recall = []\n",
    "\n",
    "# Loop through the different classifier algorithms \n",
    "for classifier in classifiersAlgorithm:  \n",
    "  model = make_pipeline(preprocessor, classifier)\n",
    "  X_train, X_test, y_train, y_test = train_test_split(X_init, y_init, test_size=0.2, random_state=42)\n",
    "  model.fit(X_train, y_train) \n",
    "  y_predict_model = model.predict(X_test)\n",
    "  cv_results = cross_validate(model, X_init, y_init)\n",
    "  scores = cv_results[\"test_score\"]\n",
    "  model_scores.append(scores.mean())\n",
    "    \n",
    "  report = classification_report(y_test, y_predict_model,output_dict=True)\n",
    "  model_f1.append(report['accuracy'])\n",
    "  model_no_precision.append(report['No']['precision'])\n",
    "  model_no_recall.append(report['No']['recall'])\n",
    "  model_yes_precision.append(report['Yes']['precision'])\n",
    "  model_yes_recall.append(report['Yes']['recall'])\n",
    "\n",
    "# Dataframe to store the model scores and model associated\n",
    "model_performance = pd.DataFrame({\n",
    "  'Classifier': classifiersLabel,  \n",
    "  'Mean CV Accuracy' : model_scores,\n",
    "  'F1-Score Accuracy' : model_f1,\n",
    "  'No - Precision' : model_no_precision,\n",
    "  'No - Recall' : model_no_recall,\n",
    "  'Yes - Precision' : model_yes_precision,\n",
    "  'Yes - Recall' : model_yes_recall\n",
    "}).sort_values('F1-Score Accuracy', ascending = False, ignore_index=True)\n",
    "\n",
    "model_performance_without_oversampling = model_performance"
   ]
  },
  {
   "cell_type": "code",
   "execution_count": null,
   "metadata": {
    "colab": {
     "base_uri": "https://localhost:8080/",
     "height": 332
    },
    "id": "5kEmgy1JemYy",
    "outputId": "2bb37dea-32b5-4ed3-e149-6d319183932a"
   },
   "outputs": [
    {
     "data": {
      "text/html": [
       "\n",
       "  <div id=\"df-30912945-6e58-4dd0-98cb-f9fe5d7b49a6\">\n",
       "    <div class=\"colab-df-container\">\n",
       "      <div>\n",
       "<style scoped>\n",
       "    .dataframe tbody tr th:only-of-type {\n",
       "        vertical-align: middle;\n",
       "    }\n",
       "\n",
       "    .dataframe tbody tr th {\n",
       "        vertical-align: top;\n",
       "    }\n",
       "\n",
       "    .dataframe thead th {\n",
       "        text-align: right;\n",
       "    }\n",
       "</style>\n",
       "<table border=\"1\" class=\"dataframe\">\n",
       "  <thead>\n",
       "    <tr style=\"text-align: right;\">\n",
       "      <th></th>\n",
       "      <th>Classifier</th>\n",
       "      <th>Mean CV Accuracy</th>\n",
       "      <th>F1-Score Accuracy</th>\n",
       "      <th>No - Precision</th>\n",
       "      <th>No - Recall</th>\n",
       "      <th>Yes - Precision</th>\n",
       "      <th>Yes - Recall</th>\n",
       "    </tr>\n",
       "  </thead>\n",
       "  <tbody>\n",
       "    <tr>\n",
       "      <th>0</th>\n",
       "      <td>Random Forest</td>\n",
       "      <td>0.901461</td>\n",
       "      <td>0.892369</td>\n",
       "      <td>0.952381</td>\n",
       "      <td>0.824742</td>\n",
       "      <td>0.847000</td>\n",
       "      <td>0.959230</td>\n",
       "    </tr>\n",
       "    <tr>\n",
       "      <th>1</th>\n",
       "      <td>Decision Tree</td>\n",
       "      <td>0.878563</td>\n",
       "      <td>0.870729</td>\n",
       "      <td>0.930667</td>\n",
       "      <td>0.799542</td>\n",
       "      <td>0.826044</td>\n",
       "      <td>0.941110</td>\n",
       "    </tr>\n",
       "    <tr>\n",
       "      <th>2</th>\n",
       "      <td>Gradient Boosting</td>\n",
       "      <td>0.789132</td>\n",
       "      <td>0.789294</td>\n",
       "      <td>0.828758</td>\n",
       "      <td>0.726231</td>\n",
       "      <td>0.758829</td>\n",
       "      <td>0.851642</td>\n",
       "    </tr>\n",
       "    <tr>\n",
       "      <th>3</th>\n",
       "      <td>AdaBoost</td>\n",
       "      <td>0.769651</td>\n",
       "      <td>0.772779</td>\n",
       "      <td>0.803846</td>\n",
       "      <td>0.718213</td>\n",
       "      <td>0.747951</td>\n",
       "      <td>0.826727</td>\n",
       "    </tr>\n",
       "    <tr>\n",
       "      <th>4</th>\n",
       "      <td>Support Vector</td>\n",
       "      <td>0.773525</td>\n",
       "      <td>0.771071</td>\n",
       "      <td>0.802311</td>\n",
       "      <td>0.715922</td>\n",
       "      <td>0.746162</td>\n",
       "      <td>0.825595</td>\n",
       "    </tr>\n",
       "    <tr>\n",
       "      <th>5</th>\n",
       "      <td>K-Neighbors</td>\n",
       "      <td>0.771020</td>\n",
       "      <td>0.767654</td>\n",
       "      <td>0.832618</td>\n",
       "      <td>0.666667</td>\n",
       "      <td>0.724693</td>\n",
       "      <td>0.867497</td>\n",
       "    </tr>\n",
       "    <tr>\n",
       "      <th>6</th>\n",
       "      <td>Logistic Regression</td>\n",
       "      <td>0.761564</td>\n",
       "      <td>0.757973</td>\n",
       "      <td>0.785714</td>\n",
       "      <td>0.705613</td>\n",
       "      <td>0.735597</td>\n",
       "      <td>0.809740</td>\n",
       "    </tr>\n",
       "    <tr>\n",
       "      <th>7</th>\n",
       "      <td>Linear SVC</td>\n",
       "      <td>0.757690</td>\n",
       "      <td>0.750000</td>\n",
       "      <td>0.776081</td>\n",
       "      <td>0.698740</td>\n",
       "      <td>0.728866</td>\n",
       "      <td>0.800680</td>\n",
       "    </tr>\n",
       "    <tr>\n",
       "      <th>8</th>\n",
       "      <td>Gaussian Naive Bayes</td>\n",
       "      <td>0.738096</td>\n",
       "      <td>0.735763</td>\n",
       "      <td>0.804769</td>\n",
       "      <td>0.618557</td>\n",
       "      <td>0.693088</td>\n",
       "      <td>0.851642</td>\n",
       "    </tr>\n",
       "  </tbody>\n",
       "</table>\n",
       "</div>\n",
       "      <button class=\"colab-df-convert\" onclick=\"convertToInteractive('df-30912945-6e58-4dd0-98cb-f9fe5d7b49a6')\"\n",
       "              title=\"Convert this dataframe to an interactive table.\"\n",
       "              style=\"display:none;\">\n",
       "        \n",
       "  <svg xmlns=\"http://www.w3.org/2000/svg\" height=\"24px\"viewBox=\"0 0 24 24\"\n",
       "       width=\"24px\">\n",
       "    <path d=\"M0 0h24v24H0V0z\" fill=\"none\"/>\n",
       "    <path d=\"M18.56 5.44l.94 2.06.94-2.06 2.06-.94-2.06-.94-.94-2.06-.94 2.06-2.06.94zm-11 1L8.5 8.5l.94-2.06 2.06-.94-2.06-.94L8.5 2.5l-.94 2.06-2.06.94zm10 10l.94 2.06.94-2.06 2.06-.94-2.06-.94-.94-2.06-.94 2.06-2.06.94z\"/><path d=\"M17.41 7.96l-1.37-1.37c-.4-.4-.92-.59-1.43-.59-.52 0-1.04.2-1.43.59L10.3 9.45l-7.72 7.72c-.78.78-.78 2.05 0 2.83L4 21.41c.39.39.9.59 1.41.59.51 0 1.02-.2 1.41-.59l7.78-7.78 2.81-2.81c.8-.78.8-2.07 0-2.86zM5.41 20L4 18.59l7.72-7.72 1.47 1.35L5.41 20z\"/>\n",
       "  </svg>\n",
       "      </button>\n",
       "      \n",
       "  <style>\n",
       "    .colab-df-container {\n",
       "      display:flex;\n",
       "      flex-wrap:wrap;\n",
       "      gap: 12px;\n",
       "    }\n",
       "\n",
       "    .colab-df-convert {\n",
       "      background-color: #E8F0FE;\n",
       "      border: none;\n",
       "      border-radius: 50%;\n",
       "      cursor: pointer;\n",
       "      display: none;\n",
       "      fill: #1967D2;\n",
       "      height: 32px;\n",
       "      padding: 0 0 0 0;\n",
       "      width: 32px;\n",
       "    }\n",
       "\n",
       "    .colab-df-convert:hover {\n",
       "      background-color: #E2EBFA;\n",
       "      box-shadow: 0px 1px 2px rgba(60, 64, 67, 0.3), 0px 1px 3px 1px rgba(60, 64, 67, 0.15);\n",
       "      fill: #174EA6;\n",
       "    }\n",
       "\n",
       "    [theme=dark] .colab-df-convert {\n",
       "      background-color: #3B4455;\n",
       "      fill: #D2E3FC;\n",
       "    }\n",
       "\n",
       "    [theme=dark] .colab-df-convert:hover {\n",
       "      background-color: #434B5C;\n",
       "      box-shadow: 0px 1px 3px 1px rgba(0, 0, 0, 0.15);\n",
       "      filter: drop-shadow(0px 1px 2px rgba(0, 0, 0, 0.3));\n",
       "      fill: #FFFFFF;\n",
       "    }\n",
       "  </style>\n",
       "\n",
       "      <script>\n",
       "        const buttonEl =\n",
       "          document.querySelector('#df-30912945-6e58-4dd0-98cb-f9fe5d7b49a6 button.colab-df-convert');\n",
       "        buttonEl.style.display =\n",
       "          google.colab.kernel.accessAllowed ? 'block' : 'none';\n",
       "\n",
       "        async function convertToInteractive(key) {\n",
       "          const element = document.querySelector('#df-30912945-6e58-4dd0-98cb-f9fe5d7b49a6');\n",
       "          const dataTable =\n",
       "            await google.colab.kernel.invokeFunction('convertToInteractive',\n",
       "                                                     [key], {});\n",
       "          if (!dataTable) return;\n",
       "\n",
       "          const docLinkHtml = 'Like what you see? Visit the ' +\n",
       "            '<a target=\"_blank\" href=https://colab.research.google.com/notebooks/data_table.ipynb>data table notebook</a>'\n",
       "            + ' to learn more about interactive tables.';\n",
       "          element.innerHTML = '';\n",
       "          dataTable['output_type'] = 'display_data';\n",
       "          await google.colab.output.renderOutput(dataTable, element);\n",
       "          const docLink = document.createElement('div');\n",
       "          docLink.innerHTML = docLinkHtml;\n",
       "          element.appendChild(docLink);\n",
       "        }\n",
       "      </script>\n",
       "    </div>\n",
       "  </div>\n",
       "  "
      ],
      "text/plain": [
       "             Classifier  Mean CV Accuracy  F1-Score Accuracy  No - Precision  \\\n",
       "0         Random Forest          0.901461           0.892369        0.952381   \n",
       "1         Decision Tree          0.878563           0.870729        0.930667   \n",
       "2     Gradient Boosting          0.789132           0.789294        0.828758   \n",
       "3              AdaBoost          0.769651           0.772779        0.803846   \n",
       "4        Support Vector          0.773525           0.771071        0.802311   \n",
       "5           K-Neighbors          0.771020           0.767654        0.832618   \n",
       "6   Logistic Regression          0.761564           0.757973        0.785714   \n",
       "7            Linear SVC          0.757690           0.750000        0.776081   \n",
       "8  Gaussian Naive Bayes          0.738096           0.735763        0.804769   \n",
       "\n",
       "   No - Recall  Yes - Precision  Yes - Recall  \n",
       "0     0.824742         0.847000      0.959230  \n",
       "1     0.799542         0.826044      0.941110  \n",
       "2     0.726231         0.758829      0.851642  \n",
       "3     0.718213         0.747951      0.826727  \n",
       "4     0.715922         0.746162      0.825595  \n",
       "5     0.666667         0.724693      0.867497  \n",
       "6     0.705613         0.735597      0.809740  \n",
       "7     0.698740         0.728866      0.800680  \n",
       "8     0.618557         0.693088      0.851642  "
      ]
     },
     "metadata": {},
     "output_type": "display_data"
    }
   ],
   "source": [
    "# Display the results\n",
    "display(model_performance_with_oversampling)"
   ]
  },
  {
   "cell_type": "code",
   "execution_count": null,
   "metadata": {
    "colab": {
     "base_uri": "https://localhost:8080/",
     "height": 332
    },
    "id": "10-9TDdGerkM",
    "outputId": "176674eb-8a74-42a6-d4f1-0215b9e91852"
   },
   "outputs": [
    {
     "data": {
      "text/html": [
       "\n",
       "  <div id=\"df-74604e95-a121-433a-a855-2a67d4a98daa\">\n",
       "    <div class=\"colab-df-container\">\n",
       "      <div>\n",
       "<style scoped>\n",
       "    .dataframe tbody tr th:only-of-type {\n",
       "        vertical-align: middle;\n",
       "    }\n",
       "\n",
       "    .dataframe tbody tr th {\n",
       "        vertical-align: top;\n",
       "    }\n",
       "\n",
       "    .dataframe thead th {\n",
       "        text-align: right;\n",
       "    }\n",
       "</style>\n",
       "<table border=\"1\" class=\"dataframe\">\n",
       "  <thead>\n",
       "    <tr style=\"text-align: right;\">\n",
       "      <th></th>\n",
       "      <th>Classifier</th>\n",
       "      <th>Mean CV Accuracy</th>\n",
       "      <th>F1-Score Accuracy</th>\n",
       "      <th>No - Precision</th>\n",
       "      <th>No - Recall</th>\n",
       "      <th>Yes - Precision</th>\n",
       "      <th>Yes - Recall</th>\n",
       "    </tr>\n",
       "  </thead>\n",
       "  <tbody>\n",
       "    <tr>\n",
       "      <th>0</th>\n",
       "      <td>Linear SVC</td>\n",
       "      <td>0.801539</td>\n",
       "      <td>0.811037</td>\n",
       "      <td>0.850000</td>\n",
       "      <td>0.903846</td>\n",
       "      <td>0.667969</td>\n",
       "      <td>0.548077</td>\n",
       "    </tr>\n",
       "    <tr>\n",
       "      <th>1</th>\n",
       "      <td>Logistic Regression</td>\n",
       "      <td>0.802542</td>\n",
       "      <td>0.810201</td>\n",
       "      <td>0.852090</td>\n",
       "      <td>0.899321</td>\n",
       "      <td>0.661597</td>\n",
       "      <td>0.557692</td>\n",
       "    </tr>\n",
       "    <tr>\n",
       "      <th>2</th>\n",
       "      <td>Support Vector</td>\n",
       "      <td>0.802041</td>\n",
       "      <td>0.808528</td>\n",
       "      <td>0.831814</td>\n",
       "      <td>0.928733</td>\n",
       "      <td>0.698565</td>\n",
       "      <td>0.467949</td>\n",
       "    </tr>\n",
       "    <tr>\n",
       "      <th>3</th>\n",
       "      <td>AdaBoost</td>\n",
       "      <td>0.799195</td>\n",
       "      <td>0.799331</td>\n",
       "      <td>0.843284</td>\n",
       "      <td>0.894796</td>\n",
       "      <td>0.639535</td>\n",
       "      <td>0.528846</td>\n",
       "    </tr>\n",
       "    <tr>\n",
       "      <th>4</th>\n",
       "      <td>Gradient Boosting</td>\n",
       "      <td>0.803044</td>\n",
       "      <td>0.796823</td>\n",
       "      <td>0.837724</td>\n",
       "      <td>0.899321</td>\n",
       "      <td>0.639676</td>\n",
       "      <td>0.506410</td>\n",
       "    </tr>\n",
       "    <tr>\n",
       "      <th>5</th>\n",
       "      <td>Random Forest</td>\n",
       "      <td>0.791497</td>\n",
       "      <td>0.791806</td>\n",
       "      <td>0.833859</td>\n",
       "      <td>0.897059</td>\n",
       "      <td>0.628571</td>\n",
       "      <td>0.493590</td>\n",
       "    </tr>\n",
       "    <tr>\n",
       "      <th>6</th>\n",
       "      <td>K-Neighbors</td>\n",
       "      <td>0.763219</td>\n",
       "      <td>0.776756</td>\n",
       "      <td>0.848588</td>\n",
       "      <td>0.849548</td>\n",
       "      <td>0.572347</td>\n",
       "      <td>0.570513</td>\n",
       "    </tr>\n",
       "    <tr>\n",
       "      <th>7</th>\n",
       "      <td>Decision Tree</td>\n",
       "      <td>0.735776</td>\n",
       "      <td>0.724916</td>\n",
       "      <td>0.810056</td>\n",
       "      <td>0.820136</td>\n",
       "      <td>0.471761</td>\n",
       "      <td>0.455128</td>\n",
       "    </tr>\n",
       "    <tr>\n",
       "      <th>8</th>\n",
       "      <td>Gaussian Naive Bayes</td>\n",
       "      <td>0.692436</td>\n",
       "      <td>0.690635</td>\n",
       "      <td>0.921311</td>\n",
       "      <td>0.635747</td>\n",
       "      <td>0.450512</td>\n",
       "      <td>0.846154</td>\n",
       "    </tr>\n",
       "  </tbody>\n",
       "</table>\n",
       "</div>\n",
       "      <button class=\"colab-df-convert\" onclick=\"convertToInteractive('df-74604e95-a121-433a-a855-2a67d4a98daa')\"\n",
       "              title=\"Convert this dataframe to an interactive table.\"\n",
       "              style=\"display:none;\">\n",
       "        \n",
       "  <svg xmlns=\"http://www.w3.org/2000/svg\" height=\"24px\"viewBox=\"0 0 24 24\"\n",
       "       width=\"24px\">\n",
       "    <path d=\"M0 0h24v24H0V0z\" fill=\"none\"/>\n",
       "    <path d=\"M18.56 5.44l.94 2.06.94-2.06 2.06-.94-2.06-.94-.94-2.06-.94 2.06-2.06.94zm-11 1L8.5 8.5l.94-2.06 2.06-.94-2.06-.94L8.5 2.5l-.94 2.06-2.06.94zm10 10l.94 2.06.94-2.06 2.06-.94-2.06-.94-.94-2.06-.94 2.06-2.06.94z\"/><path d=\"M17.41 7.96l-1.37-1.37c-.4-.4-.92-.59-1.43-.59-.52 0-1.04.2-1.43.59L10.3 9.45l-7.72 7.72c-.78.78-.78 2.05 0 2.83L4 21.41c.39.39.9.59 1.41.59.51 0 1.02-.2 1.41-.59l7.78-7.78 2.81-2.81c.8-.78.8-2.07 0-2.86zM5.41 20L4 18.59l7.72-7.72 1.47 1.35L5.41 20z\"/>\n",
       "  </svg>\n",
       "      </button>\n",
       "      \n",
       "  <style>\n",
       "    .colab-df-container {\n",
       "      display:flex;\n",
       "      flex-wrap:wrap;\n",
       "      gap: 12px;\n",
       "    }\n",
       "\n",
       "    .colab-df-convert {\n",
       "      background-color: #E8F0FE;\n",
       "      border: none;\n",
       "      border-radius: 50%;\n",
       "      cursor: pointer;\n",
       "      display: none;\n",
       "      fill: #1967D2;\n",
       "      height: 32px;\n",
       "      padding: 0 0 0 0;\n",
       "      width: 32px;\n",
       "    }\n",
       "\n",
       "    .colab-df-convert:hover {\n",
       "      background-color: #E2EBFA;\n",
       "      box-shadow: 0px 1px 2px rgba(60, 64, 67, 0.3), 0px 1px 3px 1px rgba(60, 64, 67, 0.15);\n",
       "      fill: #174EA6;\n",
       "    }\n",
       "\n",
       "    [theme=dark] .colab-df-convert {\n",
       "      background-color: #3B4455;\n",
       "      fill: #D2E3FC;\n",
       "    }\n",
       "\n",
       "    [theme=dark] .colab-df-convert:hover {\n",
       "      background-color: #434B5C;\n",
       "      box-shadow: 0px 1px 3px 1px rgba(0, 0, 0, 0.15);\n",
       "      filter: drop-shadow(0px 1px 2px rgba(0, 0, 0, 0.3));\n",
       "      fill: #FFFFFF;\n",
       "    }\n",
       "  </style>\n",
       "\n",
       "      <script>\n",
       "        const buttonEl =\n",
       "          document.querySelector('#df-74604e95-a121-433a-a855-2a67d4a98daa button.colab-df-convert');\n",
       "        buttonEl.style.display =\n",
       "          google.colab.kernel.accessAllowed ? 'block' : 'none';\n",
       "\n",
       "        async function convertToInteractive(key) {\n",
       "          const element = document.querySelector('#df-74604e95-a121-433a-a855-2a67d4a98daa');\n",
       "          const dataTable =\n",
       "            await google.colab.kernel.invokeFunction('convertToInteractive',\n",
       "                                                     [key], {});\n",
       "          if (!dataTable) return;\n",
       "\n",
       "          const docLinkHtml = 'Like what you see? Visit the ' +\n",
       "            '<a target=\"_blank\" href=https://colab.research.google.com/notebooks/data_table.ipynb>data table notebook</a>'\n",
       "            + ' to learn more about interactive tables.';\n",
       "          element.innerHTML = '';\n",
       "          dataTable['output_type'] = 'display_data';\n",
       "          await google.colab.output.renderOutput(dataTable, element);\n",
       "          const docLink = document.createElement('div');\n",
       "          docLink.innerHTML = docLinkHtml;\n",
       "          element.appendChild(docLink);\n",
       "        }\n",
       "      </script>\n",
       "    </div>\n",
       "  </div>\n",
       "  "
      ],
      "text/plain": [
       "             Classifier  Mean CV Accuracy  F1-Score Accuracy  No - Precision  \\\n",
       "0            Linear SVC          0.801539           0.811037        0.850000   \n",
       "1   Logistic Regression          0.802542           0.810201        0.852090   \n",
       "2        Support Vector          0.802041           0.808528        0.831814   \n",
       "3              AdaBoost          0.799195           0.799331        0.843284   \n",
       "4     Gradient Boosting          0.803044           0.796823        0.837724   \n",
       "5         Random Forest          0.791497           0.791806        0.833859   \n",
       "6           K-Neighbors          0.763219           0.776756        0.848588   \n",
       "7         Decision Tree          0.735776           0.724916        0.810056   \n",
       "8  Gaussian Naive Bayes          0.692436           0.690635        0.921311   \n",
       "\n",
       "   No - Recall  Yes - Precision  Yes - Recall  \n",
       "0     0.903846         0.667969      0.548077  \n",
       "1     0.899321         0.661597      0.557692  \n",
       "2     0.928733         0.698565      0.467949  \n",
       "3     0.894796         0.639535      0.528846  \n",
       "4     0.899321         0.639676      0.506410  \n",
       "5     0.897059         0.628571      0.493590  \n",
       "6     0.849548         0.572347      0.570513  \n",
       "7     0.820136         0.471761      0.455128  \n",
       "8     0.635747         0.450512      0.846154  "
      ]
     },
     "metadata": {},
     "output_type": "display_data"
    }
   ],
   "source": [
    "# Display the results\n",
    "display(model_performance_without_oversampling)"
   ]
  },
  {
   "cell_type": "markdown",
   "metadata": {
    "id": "4PeEvXAtevzJ"
   },
   "source": [
    "**NOTE :** Without hyperparameter tuning and over sampled dataset, the Random Forest classifier shows better results (88% of accuracy). With the Decision Tree, these two tree-based algorithms offer good performances (>85% of accuracy). Other classifiers indicate good results too but are less efficient, with F1-score accuracy between 75% and 80%. Oversampling leads to an improvement of the f1-score by around 11-12% compared to unbalanced dataset. "
   ]
  },
  {
   "cell_type": "markdown",
   "metadata": {
    "id": "F1SRpApanAY_"
   },
   "source": [
    "\n",
    "\n",
    "---\n",
    "\n",
    "\n",
    "\n",
    "---\n",
    "\n",
    "\n",
    "\n",
    "**MODEL OPTIMIZATION**"
   ]
  },
  {
   "cell_type": "markdown",
   "metadata": {
    "id": "RLM724m8fte2"
   },
   "source": [
    "Now we will consider tuning hyperparameters to increase the accuracy of the model against the training set and the test set as well. Hyperparameters tuning consists to choose a set of optimal hyperparameters for a learning algorithm. These optimized hyperparameters should gives us high model performance. Below both RandomizedSearchCV and GridSearchCV algorithms have been tested and used on our data. \n",
    "\n"
   ]
  },
  {
   "cell_type": "markdown",
   "metadata": {
    "id": "xudYw9821MVQ"
   },
   "source": [
    "**METHOD #1 : Hyperparameters tuning on the initial dataset**\n"
   ]
  },
  {
   "cell_type": "markdown",
   "metadata": {
    "id": "5payKqps8vPy"
   },
   "source": [
    "To begin with, we change data in numbers."
   ]
  },
  {
   "cell_type": "code",
   "execution_count": null,
   "metadata": {
    "id": "p3CQSPD8UvsA"
   },
   "outputs": [],
   "source": [
    "\n",
    "# Data splitting (response : y_init = \"Churn\" variable, predictors : X_init = others variables)\n",
    "\n",
    "dict = {\"No\" : \"0\", \"Yes\" : \"1\" }\n",
    "df=df_test.replace({\"No\" : \"0\", \"Yes\" : \"1\" })\n",
    "df[\"Churn\"]=df[\"Churn\"].apply(pd.to_numeric)\n",
    "df= pd.get_dummies(df, dtype=np.int64)\n",
    "# Data splitting (response : y_init = \"Churn\" variable, predictors : X_init = others variables)\n",
    "target_name = \"Churn\"\n",
    "y = df[target_name]\n",
    "X = df.drop(columns=[target_name]) \n",
    "\n"
   ]
  },
  {
   "cell_type": "markdown",
   "metadata": {
    "id": "ubK0Q5Fp87EA"
   },
   "source": [
    "Splitting data in TRAIN and TEST samples.\n",
    "Random forest scores before fitting of  parameters:"
   ]
  },
  {
   "cell_type": "code",
   "execution_count": null,
   "metadata": {
    "id": "6vy82KBWfgYY"
   },
   "outputs": [],
   "source": [
    "\n",
    "X_train, X_test, y_train, y_test = train_test_split(X, y , test_size=0.2, random_state=42)\n",
    "\n",
    "from sklearn.ensemble import RandomForestClassifier\n",
    "rf = RandomForestClassifier(random_state=42)\n",
    "rf.fit(X_train, y_train)\n",
    "y_pred_rf = rf.predict(X_test)"
   ]
  },
  {
   "cell_type": "code",
   "execution_count": null,
   "metadata": {
    "colab": {
     "base_uri": "https://localhost:8080/"
    },
    "id": "mRRtdCvqdgLM",
    "outputId": "49a750b6-b883-4441-81bc-b628d130fcb5"
   },
   "outputs": [
    {
     "name": "stdout",
     "output_type": "stream",
     "text": [
      "_________classification_report _________\n",
      "              precision    recall  f1-score   support\n",
      "\n",
      "           0       0.83      0.89      0.86       884\n",
      "           1       0.60      0.47      0.53       312\n",
      "\n",
      "    accuracy                           0.78      1196\n",
      "   macro avg       0.71      0.68      0.69      1196\n",
      "weighted avg       0.77      0.78      0.77      1196\n",
      "\n",
      "_________Confusion_matrix: TP / TN / FP/ FN _________\n",
      "Classe prédite    0    1\n",
      "Classe réelle           \n",
      "0               786   98\n",
      "1               164  148\n",
      "__________________\n",
      "Accuracy:how often is the classifier correct 0.78\n",
      "f1:performance, based on two factors i.e. precision and recall. 0.53\n"
     ]
    }
   ],
   "source": [
    "from sklearn.metrics import f1_score,accuracy_score,classification_report\n",
    "print(\"_________classification_report _________\")\n",
    "print(classification_report(y_test, y_pred_rf))\n",
    "print(\"_________Confusion_matrix: TP / TN / FP/ FN _________\")\n",
    "cm= pd.crosstab(y_test, y_pred_rf, rownames=['Classe réelle'], colnames=['Classe prédite'])\n",
    "print(cm )\n",
    "print(\"__________________\")\n",
    "print(\"Accuracy:how often is the classifier correct\",  \"%.2f\" % accuracy_score(y_test, y_pred_rf))\n",
    "print(\"f1:performance, based on two factors i.e. precision and recall.\",\"%.2f\" %f1_score(y_test, y_pred_rf))"
   ]
  },
  {
   "cell_type": "markdown",
   "metadata": {
    "id": "UzHV7U1v1BK7"
   },
   "source": [
    "We begin the optimisation of parameters with the help of  RandomizedSearchCV, which samples a randomly-selected subset of n combinations.  The logic behind a randomized grid search is that by checking enough randomly-chosen combinations on the grid, the search is likely to identify one that is similar to the one that an exhaustive process would have identified. RandomizedSearchCV will let us to choose a limited set of hyperparameters values for GridSearchCV.\n",
    "\n",
    "We will tune these hyperparameters:\n",
    "\n",
    "**n_estimators:** the number of “trees” in our Random Forest.\n",
    "\n",
    "**max_features:** the number of features at each split.\n",
    "\n",
    "**max_depth:** the max number of “splits”each tree can have.\n",
    "\n",
    "**min_samples_split:** the minimum number of observations required before a node of a tree can split itself.\n",
    "\n",
    "**min_samples_leaf:** the minimum number of observations required at each leaf at the ends of each tree.\n",
    "\n",
    "**bootstrap:** whether to use bootstrapping or not to provide data to each tree in the Random Forest (Bootstrapping is a random sampling from the dataset with replacement).\n",
    "\n",
    "**class_weight:** If not given, all classes are supposed to have weight one. But our research above has shown that our dataframe is not balanced, so we will try to optimize this parameter as others.\n",
    "\n",
    "\n",
    "\n",
    "\n"
   ]
  },
  {
   "cell_type": "code",
   "execution_count": null,
   "metadata": {
    "colab": {
     "base_uri": "https://localhost:8080/"
    },
    "id": "s1I4BvkPjlKW",
    "outputId": "0899f005-491a-47e7-9b2e-eb30c9935b97"
   },
   "outputs": [
    {
     "name": "stdout",
     "output_type": "stream",
     "text": [
      "Fitting 3 folds for each of 100 candidates, totalling 300 fits\n",
      "{'n_estimators': 223, 'min_samples_split': 223, 'min_samples_leaf': 1000, 'max_features': 'log2', 'max_depth': 6, 'class_weight': {0: 1, 1: 2}, 'bootstrap': False}\n"
     ]
    }
   ],
   "source": [
    "# We generate a “param_dist” with a range of values to try for each hyperparameter. This part of ML is always considered like \"piece of art\", \n",
    "#because too large range could make calculations too long and it is necessary to guess/definir very good the ranges of values.\n",
    "\n",
    "\n",
    "from sklearn.model_selection import RandomizedSearchCV\n",
    "n_estimators = [int(x) for x in np.linspace(start = 1, stop = 1000, num = 10)]\n",
    "max_features = ['log2', 'sqrt']\n",
    "max_depth = [int(x) for x in np.linspace(start = 1, stop =15, num = 15)]\n",
    "min_samples_split = [int(x) for x in np.linspace(start = 2, stop = 1000, num = 10)]\n",
    "min_samples_leaf = [int(x) for x in np.linspace(start = 2, stop = 1000, num = 10)]\n",
    "bootstrap = [True, False]\n",
    "class_weight=[{0:1,1:1}, {0:1,1:2},{0:1,1:3},{0:1,1:4},{0:1,1:5},{0:1,1:6},{0:1,1:7},{0:1,1:8},{0:1,1:10},{0:1,1:20}]\n",
    "param_dist = {\n",
    "               'n_estimators': n_estimators,\n",
    "               'max_features': max_features,\n",
    "               'max_depth': max_depth,\n",
    "               'min_samples_split': min_samples_split,\n",
    "               'min_samples_leaf': min_samples_leaf,\n",
    "               'bootstrap': bootstrap,\n",
    "               'class_weight':class_weight}\n",
    "rs = RandomizedSearchCV(rf, \n",
    "                        param_dist, \n",
    "                        n_iter = 100, \n",
    "                        cv = 3, \n",
    "                        verbose = 1, \n",
    "                        n_jobs=-1, \n",
    "                        random_state=0)\n",
    "rs.fit(X_train, y_train)\n",
    "print (rs.best_params_)\n"
   ]
  },
  {
   "cell_type": "markdown",
   "metadata": {
    "id": "geaGP6XT4QlA"
   },
   "source": [
    "With n_iter = 100 and cv = 3, we created 300 Random Forest models, randomly sampling combinations of the hyperparameters input above. We can call “best_params_” to get the best performing model’s parameters (shown at the bottom of the code box above). "
   ]
  },
  {
   "cell_type": "markdown",
   "metadata": {
    "id": "JX_kvY2R4oT3"
   },
   "source": [
    "Dataframe of our RandomSearchCV results"
   ]
  },
  {
   "cell_type": "code",
   "execution_count": null,
   "metadata": {
    "colab": {
     "base_uri": "https://localhost:8080/",
     "height": 363
    },
    "id": "NeWuoFz-jzEk",
    "outputId": "6c3e5564-9acf-4177-b3a4-b26208766b56"
   },
   "outputs": [
    {
     "data": {
      "text/html": [
       "\n",
       "  <div id=\"df-2a130458-1956-4d35-8cc2-a33c93ec1854\">\n",
       "    <div class=\"colab-df-container\">\n",
       "      <div>\n",
       "<style scoped>\n",
       "    .dataframe tbody tr th:only-of-type {\n",
       "        vertical-align: middle;\n",
       "    }\n",
       "\n",
       "    .dataframe tbody tr th {\n",
       "        vertical-align: top;\n",
       "    }\n",
       "\n",
       "    .dataframe thead th {\n",
       "        text-align: right;\n",
       "    }\n",
       "</style>\n",
       "<table border=\"1\" class=\"dataframe\">\n",
       "  <thead>\n",
       "    <tr style=\"text-align: right;\">\n",
       "      <th></th>\n",
       "      <th>param_n_estimators</th>\n",
       "      <th>param_min_samples_split</th>\n",
       "      <th>param_min_samples_leaf</th>\n",
       "      <th>param_max_features</th>\n",
       "      <th>param_max_depth</th>\n",
       "      <th>param_class_weight</th>\n",
       "      <th>param_bootstrap</th>\n",
       "      <th>mean_test_score</th>\n",
       "      <th>rank_test_score</th>\n",
       "    </tr>\n",
       "  </thead>\n",
       "  <tbody>\n",
       "    <tr>\n",
       "      <th>0</th>\n",
       "      <td>223</td>\n",
       "      <td>223</td>\n",
       "      <td>1000</td>\n",
       "      <td>log2</td>\n",
       "      <td>6</td>\n",
       "      <td>{0: 1, 1: 2}</td>\n",
       "      <td>False</td>\n",
       "      <td>0.791630</td>\n",
       "      <td>1</td>\n",
       "    </tr>\n",
       "    <tr>\n",
       "      <th>1</th>\n",
       "      <td>223</td>\n",
       "      <td>556</td>\n",
       "      <td>778</td>\n",
       "      <td>log2</td>\n",
       "      <td>2</td>\n",
       "      <td>{0: 1, 1: 2}</td>\n",
       "      <td>False</td>\n",
       "      <td>0.791002</td>\n",
       "      <td>2</td>\n",
       "    </tr>\n",
       "    <tr>\n",
       "      <th>2</th>\n",
       "      <td>334</td>\n",
       "      <td>889</td>\n",
       "      <td>778</td>\n",
       "      <td>sqrt</td>\n",
       "      <td>15</td>\n",
       "      <td>{0: 1, 1: 2}</td>\n",
       "      <td>False</td>\n",
       "      <td>0.788283</td>\n",
       "      <td>3</td>\n",
       "    </tr>\n",
       "    <tr>\n",
       "      <th>3</th>\n",
       "      <td>556</td>\n",
       "      <td>445</td>\n",
       "      <td>889</td>\n",
       "      <td>sqrt</td>\n",
       "      <td>6</td>\n",
       "      <td>{0: 1, 1: 2}</td>\n",
       "      <td>False</td>\n",
       "      <td>0.785982</td>\n",
       "      <td>4</td>\n",
       "    </tr>\n",
       "    <tr>\n",
       "      <th>4</th>\n",
       "      <td>334</td>\n",
       "      <td>889</td>\n",
       "      <td>889</td>\n",
       "      <td>sqrt</td>\n",
       "      <td>9</td>\n",
       "      <td>{0: 1, 1: 2}</td>\n",
       "      <td>True</td>\n",
       "      <td>0.781800</td>\n",
       "      <td>5</td>\n",
       "    </tr>\n",
       "    <tr>\n",
       "      <th>5</th>\n",
       "      <td>112</td>\n",
       "      <td>112</td>\n",
       "      <td>889</td>\n",
       "      <td>sqrt</td>\n",
       "      <td>10</td>\n",
       "      <td>{0: 1, 1: 2}</td>\n",
       "      <td>True</td>\n",
       "      <td>0.780963</td>\n",
       "      <td>6</td>\n",
       "    </tr>\n",
       "    <tr>\n",
       "      <th>6</th>\n",
       "      <td>1</td>\n",
       "      <td>1000</td>\n",
       "      <td>223</td>\n",
       "      <td>log2</td>\n",
       "      <td>11</td>\n",
       "      <td>{0: 1, 1: 1}</td>\n",
       "      <td>False</td>\n",
       "      <td>0.778871</td>\n",
       "      <td>7</td>\n",
       "    </tr>\n",
       "    <tr>\n",
       "      <th>7</th>\n",
       "      <td>778</td>\n",
       "      <td>334</td>\n",
       "      <td>112</td>\n",
       "      <td>log2</td>\n",
       "      <td>3</td>\n",
       "      <td>{0: 1, 1: 1}</td>\n",
       "      <td>False</td>\n",
       "      <td>0.778869</td>\n",
       "      <td>8</td>\n",
       "    </tr>\n",
       "    <tr>\n",
       "      <th>8</th>\n",
       "      <td>445</td>\n",
       "      <td>445</td>\n",
       "      <td>445</td>\n",
       "      <td>sqrt</td>\n",
       "      <td>8</td>\n",
       "      <td>{0: 1, 1: 2}</td>\n",
       "      <td>True</td>\n",
       "      <td>0.776777</td>\n",
       "      <td>9</td>\n",
       "    </tr>\n",
       "    <tr>\n",
       "      <th>9</th>\n",
       "      <td>112</td>\n",
       "      <td>667</td>\n",
       "      <td>334</td>\n",
       "      <td>log2</td>\n",
       "      <td>13</td>\n",
       "      <td>{0: 1, 1: 2}</td>\n",
       "      <td>False</td>\n",
       "      <td>0.769037</td>\n",
       "      <td>10</td>\n",
       "    </tr>\n",
       "  </tbody>\n",
       "</table>\n",
       "</div>\n",
       "      <button class=\"colab-df-convert\" onclick=\"convertToInteractive('df-2a130458-1956-4d35-8cc2-a33c93ec1854')\"\n",
       "              title=\"Convert this dataframe to an interactive table.\"\n",
       "              style=\"display:none;\">\n",
       "        \n",
       "  <svg xmlns=\"http://www.w3.org/2000/svg\" height=\"24px\"viewBox=\"0 0 24 24\"\n",
       "       width=\"24px\">\n",
       "    <path d=\"M0 0h24v24H0V0z\" fill=\"none\"/>\n",
       "    <path d=\"M18.56 5.44l.94 2.06.94-2.06 2.06-.94-2.06-.94-.94-2.06-.94 2.06-2.06.94zm-11 1L8.5 8.5l.94-2.06 2.06-.94-2.06-.94L8.5 2.5l-.94 2.06-2.06.94zm10 10l.94 2.06.94-2.06 2.06-.94-2.06-.94-.94-2.06-.94 2.06-2.06.94z\"/><path d=\"M17.41 7.96l-1.37-1.37c-.4-.4-.92-.59-1.43-.59-.52 0-1.04.2-1.43.59L10.3 9.45l-7.72 7.72c-.78.78-.78 2.05 0 2.83L4 21.41c.39.39.9.59 1.41.59.51 0 1.02-.2 1.41-.59l7.78-7.78 2.81-2.81c.8-.78.8-2.07 0-2.86zM5.41 20L4 18.59l7.72-7.72 1.47 1.35L5.41 20z\"/>\n",
       "  </svg>\n",
       "      </button>\n",
       "      \n",
       "  <style>\n",
       "    .colab-df-container {\n",
       "      display:flex;\n",
       "      flex-wrap:wrap;\n",
       "      gap: 12px;\n",
       "    }\n",
       "\n",
       "    .colab-df-convert {\n",
       "      background-color: #E8F0FE;\n",
       "      border: none;\n",
       "      border-radius: 50%;\n",
       "      cursor: pointer;\n",
       "      display: none;\n",
       "      fill: #1967D2;\n",
       "      height: 32px;\n",
       "      padding: 0 0 0 0;\n",
       "      width: 32px;\n",
       "    }\n",
       "\n",
       "    .colab-df-convert:hover {\n",
       "      background-color: #E2EBFA;\n",
       "      box-shadow: 0px 1px 2px rgba(60, 64, 67, 0.3), 0px 1px 3px 1px rgba(60, 64, 67, 0.15);\n",
       "      fill: #174EA6;\n",
       "    }\n",
       "\n",
       "    [theme=dark] .colab-df-convert {\n",
       "      background-color: #3B4455;\n",
       "      fill: #D2E3FC;\n",
       "    }\n",
       "\n",
       "    [theme=dark] .colab-df-convert:hover {\n",
       "      background-color: #434B5C;\n",
       "      box-shadow: 0px 1px 3px 1px rgba(0, 0, 0, 0.15);\n",
       "      filter: drop-shadow(0px 1px 2px rgba(0, 0, 0, 0.3));\n",
       "      fill: #FFFFFF;\n",
       "    }\n",
       "  </style>\n",
       "\n",
       "      <script>\n",
       "        const buttonEl =\n",
       "          document.querySelector('#df-2a130458-1956-4d35-8cc2-a33c93ec1854 button.colab-df-convert');\n",
       "        buttonEl.style.display =\n",
       "          google.colab.kernel.accessAllowed ? 'block' : 'none';\n",
       "\n",
       "        async function convertToInteractive(key) {\n",
       "          const element = document.querySelector('#df-2a130458-1956-4d35-8cc2-a33c93ec1854');\n",
       "          const dataTable =\n",
       "            await google.colab.kernel.invokeFunction('convertToInteractive',\n",
       "                                                     [key], {});\n",
       "          if (!dataTable) return;\n",
       "\n",
       "          const docLinkHtml = 'Like what you see? Visit the ' +\n",
       "            '<a target=\"_blank\" href=https://colab.research.google.com/notebooks/data_table.ipynb>data table notebook</a>'\n",
       "            + ' to learn more about interactive tables.';\n",
       "          element.innerHTML = '';\n",
       "          dataTable['output_type'] = 'display_data';\n",
       "          await google.colab.output.renderOutput(dataTable, element);\n",
       "          const docLink = document.createElement('div');\n",
       "          docLink.innerHTML = docLinkHtml;\n",
       "          element.appendChild(docLink);\n",
       "        }\n",
       "      </script>\n",
       "    </div>\n",
       "  </div>\n",
       "  "
      ],
      "text/plain": [
       "  param_n_estimators param_min_samples_split param_min_samples_leaf  \\\n",
       "0                223                     223                   1000   \n",
       "1                223                     556                    778   \n",
       "2                334                     889                    778   \n",
       "3                556                     445                    889   \n",
       "4                334                     889                    889   \n",
       "5                112                     112                    889   \n",
       "6                  1                    1000                    223   \n",
       "7                778                     334                    112   \n",
       "8                445                     445                    445   \n",
       "9                112                     667                    334   \n",
       "\n",
       "  param_max_features param_max_depth param_class_weight param_bootstrap  \\\n",
       "0               log2               6       {0: 1, 1: 2}           False   \n",
       "1               log2               2       {0: 1, 1: 2}           False   \n",
       "2               sqrt              15       {0: 1, 1: 2}           False   \n",
       "3               sqrt               6       {0: 1, 1: 2}           False   \n",
       "4               sqrt               9       {0: 1, 1: 2}            True   \n",
       "5               sqrt              10       {0: 1, 1: 2}            True   \n",
       "6               log2              11       {0: 1, 1: 1}           False   \n",
       "7               log2               3       {0: 1, 1: 1}           False   \n",
       "8               sqrt               8       {0: 1, 1: 2}            True   \n",
       "9               log2              13       {0: 1, 1: 2}           False   \n",
       "\n",
       "   mean_test_score  rank_test_score  \n",
       "0         0.791630                1  \n",
       "1         0.791002                2  \n",
       "2         0.788283                3  \n",
       "3         0.785982                4  \n",
       "4         0.781800                5  \n",
       "5         0.780963                6  \n",
       "6         0.778871                7  \n",
       "7         0.778869                8  \n",
       "8         0.776777                9  \n",
       "9         0.769037               10  "
      ]
     },
     "execution_count": 79,
     "metadata": {},
     "output_type": "execute_result"
    }
   ],
   "source": [
    "rs_df = pd.DataFrame(rs.cv_results_).sort_values('rank_test_score').reset_index(drop=True)\n",
    "rs_df = rs_df.drop([\n",
    "            'mean_fit_time', \n",
    "            'std_fit_time', \n",
    "            'mean_score_time',\n",
    "            'std_score_time', \n",
    "            'params', \n",
    "            'split0_test_score', \n",
    "            'split1_test_score', \n",
    "            'split2_test_score', \n",
    "            'std_test_score'],\n",
    "            axis=1)\n",
    "rs_df.head(10)"
   ]
  },
  {
   "cell_type": "markdown",
   "metadata": {
    "id": "64-yM2KS5Nr_"
   },
   "source": [
    "Bar plots of each hyperparameter on the x-axis, and the mean score of the models made at each value, to see which values were most successful on average\n"
   ]
  },
  {
   "cell_type": "code",
   "execution_count": null,
   "metadata": {
    "colab": {
     "base_uri": "https://localhost:8080/",
     "height": 900
    },
    "id": "kf6EeY1Zj2dv",
    "outputId": "aca186e5-7e84-4199-c769-082c3e57574a"
   },
   "outputs": [
    {
     "data": {
      "image/png": "[encoded data removed]",
      "text/plain": [
       "<Figure size 1440x1080 with 6 Axes>"
      ]
     },
     "metadata": {},
     "output_type": "display_data"
    }
   ],
   "source": [
    "fig, axs = plt.subplots(ncols=3, nrows=2)\n",
    "sns.set(style=\"whitegrid\", color_codes=True,font_scale=1)\n",
    "fig.set_size_inches(20,15)\n",
    "sns.barplot(x='param_n_estimators', y='mean_test_score', data=rs_df, ax=axs[0,0], color='lightgrey')\n",
    "axs[0,0].set_title(label = 'n_estimators', size=14, weight='bold')\n",
    "sns.barplot(x='param_min_samples_split', y='mean_test_score', data=rs_df, ax=axs[0,1], color='coral')\n",
    "axs[0,1].set_title(label = 'min_samples_split', size=14, weight='bold')\n",
    "sns.barplot(x='param_min_samples_leaf', y='mean_test_score', data=rs_df, ax=axs[0,2], color='lightgreen')\n",
    "axs[0,2].set_title(label = 'min_samples_leaf', size=14, weight='bold')\n",
    "sns.barplot(x='param_max_features', y='mean_test_score', data=rs_df, ax=axs[1,0], color='wheat')\n",
    "axs[1,0].set_title(label = 'max_features', size=14, weight='bold')\n",
    "sns.barplot(x='param_max_depth', y='mean_test_score', data=rs_df, ax=axs[1,1], color='lightpink')\n",
    "axs[1,1].set_title(label = 'max_depth', size=14, weight='bold')\n",
    "sns.barplot(x='param_bootstrap',y='mean_test_score', data=rs_df, ax=axs[1,2], color='skyblue')\n",
    "axs[1,2].set_title(label = 'bootstrap', size=14, weight='bold')\n",
    "\n",
    "plt.show()"
   ]
  },
  {
   "cell_type": "markdown",
   "metadata": {
    "id": "15-zeTMe5Y-v"
   },
   "source": [
    "We see that RandomizedSearchCV proposes the variant for each parameter.\n",
    "We could use the best for further research with GridSearchCV. The values chosen for GridSearchCV are not the max but from several the best. So now we can take these insights and move into the second round of hyperparameters tuning to further narrow our selections."
   ]
  },
  {
   "cell_type": "markdown",
   "metadata": {
    "id": "8-J2h9as0ULr"
   },
   "source": [
    "Now, we will adjust the results with GridSearchCV, which comprehensively checks every proposed combination of hyperparameter values to determine the optimal combination. \n",
    "The hyperparameters are the same, but now we perform a more “exhaustive” search using GridSearchCV. In GridSearchCV, every single combination of hyperparameter values is tried which takes much more computational power than RandomSearchCV, where we can directly control how many iterations we want to try. So here we are performing 3-fold cross-validation for 4x 1 x 4x 3 x 3 x 1x 1 = 144 model fits, which is a grand total of 432 model fits."
   ]
  },
  {
   "cell_type": "code",
   "execution_count": null,
   "metadata": {
    "colab": {
     "base_uri": "https://localhost:8080/"
    },
    "id": "0yVVbAEJkbB9",
    "outputId": "5eed7521-d688-44fb-e1f0-b2b4665d0a3b"
   },
   "outputs": [
    {
     "name": "stdout",
     "output_type": "stream",
     "text": [
      "Fitting 3 folds for each of 144 candidates, totalling 432 fits\n"
     ]
    },
    {
     "data": {
      "text/plain": [
       "{'bootstrap': False,\n",
       " 'class_weight': {0: 1, 1: 2},\n",
       " 'max_depth': 5,\n",
       " 'max_features': 'log2',\n",
       " 'min_samples_leaf': 778,\n",
       " 'min_samples_split': 112,\n",
       " 'n_estimators': 445}"
      ]
     },
     "execution_count": 81,
     "metadata": {},
     "output_type": "execute_result"
    }
   ],
   "source": [
    "# Looking at the plots above, we can extract insights about how well each value for each hyperparameter performed on average.\n",
    "from sklearn.model_selection import GridSearchCV\n",
    "n_estimators = [112,334,445,1000]\n",
    "max_features = ['log2']\n",
    "max_depth = [5,7,13,15]\n",
    "min_samples_split = [112, 445, 889]\n",
    "min_samples_leaf = [2, 223, 778]\n",
    "bootstrap = [False]\n",
    "class_weight= [{0: 1, 1: 2}]\n",
    "\n",
    "param_grid = {'n_estimators': n_estimators,\n",
    "               'max_features': max_features,\n",
    "               'max_depth': max_depth,\n",
    "               'min_samples_split': min_samples_split,\n",
    "               'min_samples_leaf': min_samples_leaf,\n",
    "               'bootstrap': bootstrap,\n",
    "               'class_weight':class_weight}\n",
    "gs = GridSearchCV(rf, param_grid, cv = 3, verbose = 1, n_jobs=-1)\n",
    "gs.fit(X_train, y_train)\n",
    "rf1 = gs.best_estimator_\n",
    "gs.best_params_"
   ]
  },
  {
   "cell_type": "markdown",
   "metadata": {
    "id": "iVVtjL4ABE6S"
   },
   "source": [
    "**PERFORMANCES COMPARISON**"
   ]
  },
  {
   "cell_type": "markdown",
   "metadata": {
    "id": "e_gAbMW9BQxA"
   },
   "source": [
    "Now we will generate scores of all variant of Random Forest tested:\n",
    "*   Random forest (default hyperparameters)\n",
    "*   Random forest with optimized hyperparameters"
   ]
  },
  {
   "cell_type": "code",
   "execution_count": null,
   "metadata": {
    "id": "TRIvcKMYk075"
   },
   "outputs": [],
   "source": [
    "#Let’s generate the predictions of each of these models:\n",
    "#Random Forest basic  __ rf\n",
    "rf = RandomForestClassifier(random_state=42)\n",
    "rf.fit(X_train, y_train)\n",
    "y_pred_rf = rf.predict(X_test)\n",
    "#Random Forest fitted   __ gs.best_estimator_\n",
    "y_pred_gs = gs.best_estimator_.predict(X_test)\n",
    "\n"
   ]
  },
  {
   "cell_type": "code",
   "execution_count": null,
   "metadata": {
    "colab": {
     "base_uri": "https://localhost:8080/"
    },
    "id": "z9lmpJn8mgxe",
    "outputId": "505f1b29-c4d2-455d-e19c-ce26e4bdda93"
   },
   "outputs": [
    {
     "name": "stdout",
     "output_type": "stream",
     "text": [
      "_________ Random Forest _________\n",
      "              precision    recall  f1-score   support\n",
      "\n",
      "           0       0.83      0.89      0.86       884\n",
      "           1       0.60      0.47      0.53       312\n",
      "\n",
      "    accuracy                           0.78      1196\n",
      "   macro avg       0.71      0.68      0.69      1196\n",
      "weighted avg       0.77      0.78      0.77      1196\n",
      "\n",
      "_________Confusion_matrix: TP / TN / FP/ FN _________\n",
      "Classe prédite    0    1\n",
      "Classe réelle           \n",
      "0               786   98\n",
      "1               164  148\n",
      "__________________\n",
      "Accuracy:how often is the classifier correct 0.78\n",
      "f1:performance, based on two factors i.e. precision and recall. 0.53\n",
      "_________Random Forest BEST PARAMETRES _________\n",
      "              precision    recall  f1-score   support\n",
      "\n",
      "           0       0.88      0.79      0.83       884\n",
      "           1       0.54      0.70      0.61       312\n",
      "\n",
      "    accuracy                           0.77      1196\n",
      "   macro avg       0.71      0.75      0.72      1196\n",
      "weighted avg       0.79      0.77      0.78      1196\n",
      "\n",
      "_________Confusion_matrix: TP / TN / FP/ FN _________\n",
      "Classe prédite    0    1\n",
      "Classe réelle           \n",
      "0               699  185\n",
      "1                93  219\n",
      "__________________\n",
      "Accuracy:how often is the classifier correct 0.77\n",
      "f1:performance, based on two factors i.e. precision and recall. 0.61\n"
     ]
    }
   ],
   "source": [
    "print(\"_________ Random Forest _________\")\n",
    "print(classification_report(y_test, y_pred_rf))\n",
    "print(\"_________Confusion_matrix: TP / TN / FP/ FN _________\")\n",
    "cm= pd.crosstab(y_test, y_pred_rf, rownames=['Real Class'], colnames=['Predicted Class'])\n",
    "print(cm )\n",
    "print(\"__________________\")\n",
    "print(\"Accuracy:how often is the classifier correct\",  \"%.2f\" % accuracy_score(y_test, y_pred_rf))\n",
    "print(\"f1:performance, based on two factors i.e. precision and recall.\",\"%.2f\" %f1_score(y_test, y_pred_rf))\n",
    "\n",
    "print(\"_________Random Forest BEST PARAMETERS _________\")\n",
    "print(classification_report(y_test, y_pred_gs))\n",
    "print(\"_________Confusion_matrix: TP / TN / FP/ FN _________\")\n",
    "cm= pd.crosstab(y_test, y_pred_gs, rownames=['Real Class'], colnames=['Predicted Class'])\n",
    "print(cm )\n",
    "print(\"__________________\")\n",
    "print(\"Accuracy:how often is the classifier correct\",  \"%.2f\" % accuracy_score(y_test, y_pred_gs))\n",
    "print(\"f1:performance, based on two factors i.e. precision and recall.\",\"%.2f\" %f1_score(y_test, y_pred_gs))\n"
   ]
  },
  {
   "cell_type": "markdown",
   "metadata": {
    "id": "L3BL-nsKEiNH"
   },
   "source": [
    "NOTE:\n",
    "The model without overfitting performs the best.\n",
    "The fitting of parameters makes the results better, especially for 'churn', those client who will leave.\n"
   ]
  },
  {
   "cell_type": "markdown",
   "metadata": {
    "id": "gJzLRSLe66kV"
   },
   "source": [
    "\n",
    "\n",
    "---\n",
    "\n",
    "\n",
    "\n",
    "---\n",
    "\n"
   ]
  },
  {
   "cell_type": "markdown",
   "metadata": {
    "id": "EdJ5rkFJ0yQN"
   },
   "source": [
    "**METHOD #2 : Hyperparameters tuning on beforehand balanced dataset**"
   ]
  },
  {
   "cell_type": "code",
   "execution_count": null,
   "metadata": {
    "id": "TVK2irZp1QLK"
   },
   "outputs": [],
   "source": [
    "X_train, X_test, y_train, y_test = train_test_split(X_over, y_over, test_size=0.2,random_state=42)"
   ]
  },
  {
   "cell_type": "markdown",
   "metadata": {
    "id": "2FDEiLQK83gA"
   },
   "source": [
    "\n",
    "\n",
    "---\n",
    "\n",
    "Reminder of results obtained using the oversampled dataset with the Random Forest Classifier (default hyperparameters values) "
   ]
  },
  {
   "cell_type": "code",
   "execution_count": null,
   "metadata": {
    "colab": {
     "base_uri": "https://localhost:8080/",
     "height": 143
    },
    "id": "Di0Nikdj1dol",
    "outputId": "0d57281b-e6da-48b9-e557-0df50db4335d"
   },
   "outputs": [
    {
     "data": {
      "text/html": [
       "\n",
       "  <div id=\"df-87414471-b869-4e69-9268-d5e6b589e147\">\n",
       "    <div class=\"colab-df-container\">\n",
       "      <div>\n",
       "<style scoped>\n",
       "    .dataframe tbody tr th:only-of-type {\n",
       "        vertical-align: middle;\n",
       "    }\n",
       "\n",
       "    .dataframe tbody tr th {\n",
       "        vertical-align: top;\n",
       "    }\n",
       "\n",
       "    .dataframe thead th {\n",
       "        text-align: right;\n",
       "    }\n",
       "</style>\n",
       "<table border=\"1\" class=\"dataframe\">\n",
       "  <thead>\n",
       "    <tr style=\"text-align: right;\">\n",
       "      <th>Prediction</th>\n",
       "      <th>No</th>\n",
       "      <th>Yes</th>\n",
       "    </tr>\n",
       "    <tr>\n",
       "      <th>Churn</th>\n",
       "      <th></th>\n",
       "      <th></th>\n",
       "    </tr>\n",
       "  </thead>\n",
       "  <tbody>\n",
       "    <tr>\n",
       "      <th>No</th>\n",
       "      <td>720</td>\n",
       "      <td>153</td>\n",
       "    </tr>\n",
       "    <tr>\n",
       "      <th>Yes</th>\n",
       "      <td>36</td>\n",
       "      <td>847</td>\n",
       "    </tr>\n",
       "  </tbody>\n",
       "</table>\n",
       "</div>\n",
       "      <button class=\"colab-df-convert\" onclick=\"convertToInteractive('df-87414471-b869-4e69-9268-d5e6b589e147')\"\n",
       "              title=\"Convert this dataframe to an interactive table.\"\n",
       "              style=\"display:none;\">\n",
       "        \n",
       "  <svg xmlns=\"http://www.w3.org/2000/svg\" height=\"24px\"viewBox=\"0 0 24 24\"\n",
       "       width=\"24px\">\n",
       "    <path d=\"M0 0h24v24H0V0z\" fill=\"none\"/>\n",
       "    <path d=\"M18.56 5.44l.94 2.06.94-2.06 2.06-.94-2.06-.94-.94-2.06-.94 2.06-2.06.94zm-11 1L8.5 8.5l.94-2.06 2.06-.94-2.06-.94L8.5 2.5l-.94 2.06-2.06.94zm10 10l.94 2.06.94-2.06 2.06-.94-2.06-.94-.94-2.06-.94 2.06-2.06.94z\"/><path d=\"M17.41 7.96l-1.37-1.37c-.4-.4-.92-.59-1.43-.59-.52 0-1.04.2-1.43.59L10.3 9.45l-7.72 7.72c-.78.78-.78 2.05 0 2.83L4 21.41c.39.39.9.59 1.41.59.51 0 1.02-.2 1.41-.59l7.78-7.78 2.81-2.81c.8-.78.8-2.07 0-2.86zM5.41 20L4 18.59l7.72-7.72 1.47 1.35L5.41 20z\"/>\n",
       "  </svg>\n",
       "      </button>\n",
       "      \n",
       "  <style>\n",
       "    .colab-df-container {\n",
       "      display:flex;\n",
       "      flex-wrap:wrap;\n",
       "      gap: 12px;\n",
       "    }\n",
       "\n",
       "    .colab-df-convert {\n",
       "      background-color: #E8F0FE;\n",
       "      border: none;\n",
       "      border-radius: 50%;\n",
       "      cursor: pointer;\n",
       "      display: none;\n",
       "      fill: #1967D2;\n",
       "      height: 32px;\n",
       "      padding: 0 0 0 0;\n",
       "      width: 32px;\n",
       "    }\n",
       "\n",
       "    .colab-df-convert:hover {\n",
       "      background-color: #E2EBFA;\n",
       "      box-shadow: 0px 1px 2px rgba(60, 64, 67, 0.3), 0px 1px 3px 1px rgba(60, 64, 67, 0.15);\n",
       "      fill: #174EA6;\n",
       "    }\n",
       "\n",
       "    [theme=dark] .colab-df-convert {\n",
       "      background-color: #3B4455;\n",
       "      fill: #D2E3FC;\n",
       "    }\n",
       "\n",
       "    [theme=dark] .colab-df-convert:hover {\n",
       "      background-color: #434B5C;\n",
       "      box-shadow: 0px 1px 3px 1px rgba(0, 0, 0, 0.15);\n",
       "      filter: drop-shadow(0px 1px 2px rgba(0, 0, 0, 0.3));\n",
       "      fill: #FFFFFF;\n",
       "    }\n",
       "  </style>\n",
       "\n",
       "      <script>\n",
       "        const buttonEl =\n",
       "          document.querySelector('#df-87414471-b869-4e69-9268-d5e6b589e147 button.colab-df-convert');\n",
       "        buttonEl.style.display =\n",
       "          google.colab.kernel.accessAllowed ? 'block' : 'none';\n",
       "\n",
       "        async function convertToInteractive(key) {\n",
       "          const element = document.querySelector('#df-87414471-b869-4e69-9268-d5e6b589e147');\n",
       "          const dataTable =\n",
       "            await google.colab.kernel.invokeFunction('convertToInteractive',\n",
       "                                                     [key], {});\n",
       "          if (!dataTable) return;\n",
       "\n",
       "          const docLinkHtml = 'Like what you see? Visit the ' +\n",
       "            '<a target=\"_blank\" href=https://colab.research.google.com/notebooks/data_table.ipynb>data table notebook</a>'\n",
       "            + ' to learn more about interactive tables.';\n",
       "          element.innerHTML = '';\n",
       "          dataTable['output_type'] = 'display_data';\n",
       "          await google.colab.output.renderOutput(dataTable, element);\n",
       "          const docLink = document.createElement('div');\n",
       "          docLink.innerHTML = docLinkHtml;\n",
       "          element.appendChild(docLink);\n",
       "        }\n",
       "      </script>\n",
       "    </div>\n",
       "  </div>\n",
       "  "
      ],
      "text/plain": [
       "Prediction   No  Yes\n",
       "Churn               \n",
       "No          720  153\n",
       "Yes          36  847"
      ]
     },
     "execution_count": 85,
     "metadata": {},
     "output_type": "execute_result"
    }
   ],
   "source": [
    "model = make_pipeline(preprocessor, RandomForestClassifier(random_state=42))\n",
    "model.fit(X_train, y_train) \n",
    "y_predict_model = model.predict(X_test)\n",
    "\n",
    "pd.crosstab(y_test, y_predict_model, rownames = ['Churn'], colnames = ['Prediction'])"
   ]
  },
  {
   "cell_type": "code",
   "execution_count": null,
   "metadata": {
    "colab": {
     "base_uri": "https://localhost:8080/"
    },
    "id": "qN3h8Dzd1g-j",
    "outputId": "ddd5809b-dde8-4438-b1a6-3628ea455ff0"
   },
   "outputs": [
    {
     "name": "stdout",
     "output_type": "stream",
     "text": [
      "              precision    recall  f1-score   support\n",
      "\n",
      "          No       0.95      0.82      0.88       873\n",
      "         Yes       0.85      0.96      0.90       883\n",
      "\n",
      "    accuracy                           0.89      1756\n",
      "   macro avg       0.90      0.89      0.89      1756\n",
      "weighted avg       0.90      0.89      0.89      1756\n",
      "\n"
     ]
    }
   ],
   "source": [
    "report_rf = classification_report(y_test, y_predict_model)\n",
    "print(report_rf)"
   ]
  },
  {
   "cell_type": "code",
   "execution_count": null,
   "metadata": {
    "colab": {
     "base_uri": "https://localhost:8080/"
    },
    "id": "4-ulUqiA1rs2",
    "outputId": "267e0325-592f-438d-f5d1-94a2b0fbfc53"
   },
   "outputs": [
    {
     "name": "stdout",
     "output_type": "stream",
     "text": [
      "Accuracy score with balanced dataset and without optimization is : 0.8924\n"
     ]
    }
   ],
   "source": [
    "accuracyScore_rf_over_noTuning = accuracy_score(y_test, y_predict_model)\n",
    "print(\"Accuracy score with balanced dataset and without optimization is :\",  \"%.4f\" % accuracyScore_rf_over_noTuning)"
   ]
  },
  {
   "cell_type": "markdown",
   "metadata": {
    "id": "CHC8aKNu85oy"
   },
   "source": [
    "\n",
    "\n",
    "---\n",
    "\n",
    "Configuration of the hyperparameters distributions for hyperparameters optimization\n",
    "\n",
    "To note that the dataset is already balanced by the oversampling, so the hyperparameter \"class_weigth\" is not tuned here"
   ]
  },
  {
   "cell_type": "code",
   "execution_count": null,
   "metadata": {
    "colab": {
     "base_uri": "https://localhost:8080/"
    },
    "id": "x44-dkxT2WVx",
    "outputId": "612591df-d4b9-47cf-8c2f-edca57f6ab8a"
   },
   "outputs": [
    {
     "name": "stdout",
     "output_type": "stream",
     "text": [
      "{\n",
      "    \"criterion\": [\n",
      "        \"gini\",\n",
      "        \"entropy\",\n",
      "        \"log_loss\"\n",
      "    ],\n",
      "    \"n_estimators\": [\n",
      "        100,\n",
      "        200,\n",
      "        300,\n",
      "        400,\n",
      "        500,\n",
      "        600,\n",
      "        700,\n",
      "        800,\n",
      "        900,\n",
      "        1000\n",
      "    ],\n",
      "    \"max_features\": [\n",
      "        \"log2\",\n",
      "        \"sqrt\",\n",
      "        null\n",
      "    ],\n",
      "    \"max_depth\": [\n",
      "        10,\n",
      "        20,\n",
      "        30,\n",
      "        40,\n",
      "        50,\n",
      "        60,\n",
      "        70,\n",
      "        80,\n",
      "        90,\n",
      "        100,\n",
      "        null\n",
      "    ],\n",
      "    \"min_samples_split\": [\n",
      "        1,\n",
      "        2,\n",
      "        5,\n",
      "        10\n",
      "    ],\n",
      "    \"min_samples_leaf\": [\n",
      "        1,\n",
      "        2,\n",
      "        5,\n",
      "        10\n",
      "    ],\n",
      "    \"bootstrap\": [\n",
      "        true,\n",
      "        false\n",
      "    ]\n",
      "}\n"
     ]
    }
   ],
   "source": [
    "from sklearn.model_selection import RandomizedSearchCV, GridSearchCV, StratifiedKFold\n",
    "\n",
    "# Number of trees in random forest\n",
    "n_estimators = [int(x) for x in np.linspace(start = 100, stop = 1000, num = 10)]\n",
    "\n",
    "criterion = ['gini', 'entropy', 'log_loss']\n",
    "\n",
    "# Number of features to consider at every split\n",
    "max_features = ['log2', 'sqrt', None]\n",
    "\n",
    "# Maximum number of levels in tree\n",
    "max_depth = [int(x) for x in np.linspace(10, 100, num = 10)]\n",
    "max_depth.append(None)\n",
    "\n",
    "# Minimum number of samples required to split a node\n",
    "min_samples_split = [1,2,5,10] \n",
    "\n",
    "# Minimum number of samples required at each leaf node\n",
    "min_samples_leaf = [1,2,5,10] \n",
    "\n",
    "# Method of selecting samples for training each tree\n",
    "bootstrap = [True, False]\n",
    "\n",
    "# Create the random grid\n",
    "random_grid = {'criterion': criterion,\n",
    "               'n_estimators': n_estimators,\n",
    "               'max_features': max_features,\n",
    "               'max_depth': max_depth,\n",
    "               'min_samples_split': min_samples_split,\n",
    "               'min_samples_leaf': min_samples_leaf,\n",
    "               'bootstrap': bootstrap}\n",
    "\n",
    "# Pretty display of a dictionary \n",
    "import json\n",
    "pretty = json.dumps(random_grid, indent=4)\n",
    "print(pretty)              "
   ]
  },
  {
   "cell_type": "markdown",
   "metadata": {
    "id": "SJtwnL-o94v8"
   },
   "source": [
    "\n",
    "\n",
    "---\n",
    "\n",
    "Configuration of the Randomized Search algorithm"
   ]
  },
  {
   "cell_type": "code",
   "execution_count": null,
   "metadata": {
    "id": "V1vCERFF2c5d"
   },
   "outputs": [],
   "source": [
    "# Random search of parameters, using 5 fold cross validation, \n",
    "# search across 100 different combinations, and use all available cores\n",
    "rf_random = RandomizedSearchCV(estimator = RandomForestClassifier(random_state=42), \n",
    "                               param_distributions = random_grid, \n",
    "                               scoring = 'accuracy',\n",
    "                               n_iter = 100, \n",
    "                               cv = StratifiedKFold(n_splits=5), \n",
    "                               verbose=2, \n",
    "                               random_state=42, \n",
    "                               n_jobs = -1)"
   ]
  },
  {
   "cell_type": "markdown",
   "metadata": {
    "id": "93RbN2e6-jd4"
   },
   "source": [
    "\n",
    "\n",
    "---\n",
    "\n",
    "\n",
    "Results obtained using the oversampled dataset with the Random Forest Classifier (optimized hyperparameters values) "
   ]
  },
  {
   "cell_type": "code",
   "execution_count": null,
   "metadata": {
    "colab": {
     "base_uri": "https://localhost:8080/",
     "height": 161
    },
    "id": "mkyrRRHX2ipb",
    "outputId": "49457cbb-207d-4728-8204-4ce1bc04f455"
   },
   "outputs": [
    {
     "name": "stdout",
     "output_type": "stream",
     "text": [
      "Fitting 5 folds for each of 100 candidates, totalling 500 fits\n"
     ]
    },
    {
     "data": {
      "text/html": [
       "\n",
       "  <div id=\"df-b1941480-32cf-436f-bc17-2cf702f575f8\">\n",
       "    <div class=\"colab-df-container\">\n",
       "      <div>\n",
       "<style scoped>\n",
       "    .dataframe tbody tr th:only-of-type {\n",
       "        vertical-align: middle;\n",
       "    }\n",
       "\n",
       "    .dataframe tbody tr th {\n",
       "        vertical-align: top;\n",
       "    }\n",
       "\n",
       "    .dataframe thead th {\n",
       "        text-align: right;\n",
       "    }\n",
       "</style>\n",
       "<table border=\"1\" class=\"dataframe\">\n",
       "  <thead>\n",
       "    <tr style=\"text-align: right;\">\n",
       "      <th>Prediction</th>\n",
       "      <th>No</th>\n",
       "      <th>Yes</th>\n",
       "    </tr>\n",
       "    <tr>\n",
       "      <th>Churn</th>\n",
       "      <th></th>\n",
       "      <th></th>\n",
       "    </tr>\n",
       "  </thead>\n",
       "  <tbody>\n",
       "    <tr>\n",
       "      <th>No</th>\n",
       "      <td>746</td>\n",
       "      <td>127</td>\n",
       "    </tr>\n",
       "    <tr>\n",
       "      <th>Yes</th>\n",
       "      <td>42</td>\n",
       "      <td>841</td>\n",
       "    </tr>\n",
       "  </tbody>\n",
       "</table>\n",
       "</div>\n",
       "      <button class=\"colab-df-convert\" onclick=\"convertToInteractive('df-b1941480-32cf-436f-bc17-2cf702f575f8')\"\n",
       "              title=\"Convert this dataframe to an interactive table.\"\n",
       "              style=\"display:none;\">\n",
       "        \n",
       "  <svg xmlns=\"http://www.w3.org/2000/svg\" height=\"24px\"viewBox=\"0 0 24 24\"\n",
       "       width=\"24px\">\n",
       "    <path d=\"M0 0h24v24H0V0z\" fill=\"none\"/>\n",
       "    <path d=\"M18.56 5.44l.94 2.06.94-2.06 2.06-.94-2.06-.94-.94-2.06-.94 2.06-2.06.94zm-11 1L8.5 8.5l.94-2.06 2.06-.94-2.06-.94L8.5 2.5l-.94 2.06-2.06.94zm10 10l.94 2.06.94-2.06 2.06-.94-2.06-.94-.94-2.06-.94 2.06-2.06.94z\"/><path d=\"M17.41 7.96l-1.37-1.37c-.4-.4-.92-.59-1.43-.59-.52 0-1.04.2-1.43.59L10.3 9.45l-7.72 7.72c-.78.78-.78 2.05 0 2.83L4 21.41c.39.39.9.59 1.41.59.51 0 1.02-.2 1.41-.59l7.78-7.78 2.81-2.81c.8-.78.8-2.07 0-2.86zM5.41 20L4 18.59l7.72-7.72 1.47 1.35L5.41 20z\"/>\n",
       "  </svg>\n",
       "      </button>\n",
       "      \n",
       "  <style>\n",
       "    .colab-df-container {\n",
       "      display:flex;\n",
       "      flex-wrap:wrap;\n",
       "      gap: 12px;\n",
       "    }\n",
       "\n",
       "    .colab-df-convert {\n",
       "      background-color: #E8F0FE;\n",
       "      border: none;\n",
       "      border-radius: 50%;\n",
       "      cursor: pointer;\n",
       "      display: none;\n",
       "      fill: #1967D2;\n",
       "      height: 32px;\n",
       "      padding: 0 0 0 0;\n",
       "      width: 32px;\n",
       "    }\n",
       "\n",
       "    .colab-df-convert:hover {\n",
       "      background-color: #E2EBFA;\n",
       "      box-shadow: 0px 1px 2px rgba(60, 64, 67, 0.3), 0px 1px 3px 1px rgba(60, 64, 67, 0.15);\n",
       "      fill: #174EA6;\n",
       "    }\n",
       "\n",
       "    [theme=dark] .colab-df-convert {\n",
       "      background-color: #3B4455;\n",
       "      fill: #D2E3FC;\n",
       "    }\n",
       "\n",
       "    [theme=dark] .colab-df-convert:hover {\n",
       "      background-color: #434B5C;\n",
       "      box-shadow: 0px 1px 3px 1px rgba(0, 0, 0, 0.15);\n",
       "      filter: drop-shadow(0px 1px 2px rgba(0, 0, 0, 0.3));\n",
       "      fill: #FFFFFF;\n",
       "    }\n",
       "  </style>\n",
       "\n",
       "      <script>\n",
       "        const buttonEl =\n",
       "          document.querySelector('#df-b1941480-32cf-436f-bc17-2cf702f575f8 button.colab-df-convert');\n",
       "        buttonEl.style.display =\n",
       "          google.colab.kernel.accessAllowed ? 'block' : 'none';\n",
       "\n",
       "        async function convertToInteractive(key) {\n",
       "          const element = document.querySelector('#df-b1941480-32cf-436f-bc17-2cf702f575f8');\n",
       "          const dataTable =\n",
       "            await google.colab.kernel.invokeFunction('convertToInteractive',\n",
       "                                                     [key], {});\n",
       "          if (!dataTable) return;\n",
       "\n",
       "          const docLinkHtml = 'Like what you see? Visit the ' +\n",
       "            '<a target=\"_blank\" href=https://colab.research.google.com/notebooks/data_table.ipynb>data table notebook</a>'\n",
       "            + ' to learn more about interactive tables.';\n",
       "          element.innerHTML = '';\n",
       "          dataTable['output_type'] = 'display_data';\n",
       "          await google.colab.output.renderOutput(dataTable, element);\n",
       "          const docLink = document.createElement('div');\n",
       "          docLink.innerHTML = docLinkHtml;\n",
       "          element.appendChild(docLink);\n",
       "        }\n",
       "      </script>\n",
       "    </div>\n",
       "  </div>\n",
       "  "
      ],
      "text/plain": [
       "Prediction   No  Yes\n",
       "Churn               \n",
       "No          746  127\n",
       "Yes          42  841"
      ]
     },
     "execution_count": 90,
     "metadata": {},
     "output_type": "execute_result"
    }
   ],
   "source": [
    "model = make_pipeline(preprocessor, rf_random)\n",
    "model.fit(X_train, y_train) \n",
    "y_predict_model = model.predict(X_test)\n",
    "\n",
    "pd.crosstab(y_test, y_predict_model, rownames = ['Churn'], colnames = ['Prediction'])"
   ]
  },
  {
   "cell_type": "code",
   "execution_count": null,
   "metadata": {
    "colab": {
     "base_uri": "https://localhost:8080/"
    },
    "id": "gyabodUW2moj",
    "outputId": "bf3bebfd-a392-424e-a46b-13ff515877d8"
   },
   "outputs": [
    {
     "name": "stdout",
     "output_type": "stream",
     "text": [
      "              precision    recall  f1-score   support\n",
      "\n",
      "          No       0.95      0.85      0.90       873\n",
      "         Yes       0.87      0.95      0.91       883\n",
      "\n",
      "    accuracy                           0.90      1756\n",
      "   macro avg       0.91      0.90      0.90      1756\n",
      "weighted avg       0.91      0.90      0.90      1756\n",
      "\n"
     ]
    }
   ],
   "source": [
    "report_rf_random = classification_report(y_test, y_predict_model)\n",
    "print(report_rf_random)"
   ]
  },
  {
   "cell_type": "code",
   "execution_count": null,
   "metadata": {
    "colab": {
     "base_uri": "https://localhost:8080/"
    },
    "id": "GVOaDLuo2pet",
    "outputId": "af71c2a0-5fde-4385-cc0d-fe568c5e8123"
   },
   "outputs": [
    {
     "name": "stdout",
     "output_type": "stream",
     "text": [
      "Accuracy score with balanced dataset and optimization is : 0.9038\n"
     ]
    }
   ],
   "source": [
    "accuracyScore_rf_over_withTuning = accuracy_score(y_test, y_predict_model)\n",
    "print(\"Accuracy score with balanced dataset and optimization is :\",  \"%.4f\" % accuracyScore_rf_over_withTuning) "
   ]
  },
  {
   "cell_type": "markdown",
   "metadata": {
    "id": "RUrq0aBO-aJp"
   },
   "source": [
    "Display optimization results"
   ]
  },
  {
   "cell_type": "code",
   "execution_count": null,
   "metadata": {
    "colab": {
     "base_uri": "https://localhost:8080/",
     "height": 206
    },
    "id": "QjICVzhK2-1M",
    "outputId": "486080a1-1c32-41ae-b7fa-764320592353"
   },
   "outputs": [
    {
     "data": {
      "text/html": [
       "\n",
       "  <div id=\"df-3e42a2c0-b6ee-41fa-b3dc-fe70709d29b8\">\n",
       "    <div class=\"colab-df-container\">\n",
       "      <div>\n",
       "<style scoped>\n",
       "    .dataframe tbody tr th:only-of-type {\n",
       "        vertical-align: middle;\n",
       "    }\n",
       "\n",
       "    .dataframe tbody tr th {\n",
       "        vertical-align: top;\n",
       "    }\n",
       "\n",
       "    .dataframe thead th {\n",
       "        text-align: right;\n",
       "    }\n",
       "</style>\n",
       "<table border=\"1\" class=\"dataframe\">\n",
       "  <thead>\n",
       "    <tr style=\"text-align: right;\">\n",
       "      <th></th>\n",
       "      <th>param_criterion</th>\n",
       "      <th>param_n_estimators</th>\n",
       "      <th>param_max_features</th>\n",
       "      <th>param_max_depth</th>\n",
       "      <th>param_min_samples_split</th>\n",
       "      <th>param_min_samples_leaf</th>\n",
       "      <th>param_bootstrap</th>\n",
       "      <th>mean_test_score</th>\n",
       "      <th>std_test_score</th>\n",
       "      <th>rank_test_score</th>\n",
       "      <th>index</th>\n",
       "    </tr>\n",
       "  </thead>\n",
       "  <tbody>\n",
       "    <tr>\n",
       "      <th>61</th>\n",
       "      <td>entropy</td>\n",
       "      <td>800</td>\n",
       "      <td>sqrt</td>\n",
       "      <td>20</td>\n",
       "      <td>2</td>\n",
       "      <td>1</td>\n",
       "      <td>False</td>\n",
       "      <td>0.877099</td>\n",
       "      <td>0.005052</td>\n",
       "      <td>1</td>\n",
       "      <td>61</td>\n",
       "    </tr>\n",
       "    <tr>\n",
       "      <th>72</th>\n",
       "      <td>entropy</td>\n",
       "      <td>1000</td>\n",
       "      <td>log2</td>\n",
       "      <td>None</td>\n",
       "      <td>2</td>\n",
       "      <td>1</td>\n",
       "      <td>False</td>\n",
       "      <td>0.876673</td>\n",
       "      <td>0.001947</td>\n",
       "      <td>2</td>\n",
       "      <td>72</td>\n",
       "    </tr>\n",
       "    <tr>\n",
       "      <th>65</th>\n",
       "      <td>entropy</td>\n",
       "      <td>400</td>\n",
       "      <td>sqrt</td>\n",
       "      <td>None</td>\n",
       "      <td>2</td>\n",
       "      <td>1</td>\n",
       "      <td>True</td>\n",
       "      <td>0.867844</td>\n",
       "      <td>0.005215</td>\n",
       "      <td>3</td>\n",
       "      <td>65</td>\n",
       "    </tr>\n",
       "    <tr>\n",
       "      <th>41</th>\n",
       "      <td>gini</td>\n",
       "      <td>800</td>\n",
       "      <td>None</td>\n",
       "      <td>60</td>\n",
       "      <td>5</td>\n",
       "      <td>1</td>\n",
       "      <td>True</td>\n",
       "      <td>0.863999</td>\n",
       "      <td>0.008502</td>\n",
       "      <td>4</td>\n",
       "      <td>41</td>\n",
       "    </tr>\n",
       "    <tr>\n",
       "      <th>37</th>\n",
       "      <td>entropy</td>\n",
       "      <td>900</td>\n",
       "      <td>sqrt</td>\n",
       "      <td>100</td>\n",
       "      <td>2</td>\n",
       "      <td>2</td>\n",
       "      <td>False</td>\n",
       "      <td>0.863998</td>\n",
       "      <td>0.006130</td>\n",
       "      <td>5</td>\n",
       "      <td>37</td>\n",
       "    </tr>\n",
       "  </tbody>\n",
       "</table>\n",
       "</div>\n",
       "      <button class=\"colab-df-convert\" onclick=\"convertToInteractive('df-3e42a2c0-b6ee-41fa-b3dc-fe70709d29b8')\"\n",
       "              title=\"Convert this dataframe to an interactive table.\"\n",
       "              style=\"display:none;\">\n",
       "        \n",
       "  <svg xmlns=\"http://www.w3.org/2000/svg\" height=\"24px\"viewBox=\"0 0 24 24\"\n",
       "       width=\"24px\">\n",
       "    <path d=\"M0 0h24v24H0V0z\" fill=\"none\"/>\n",
       "    <path d=\"M18.56 5.44l.94 2.06.94-2.06 2.06-.94-2.06-.94-.94-2.06-.94 2.06-2.06.94zm-11 1L8.5 8.5l.94-2.06 2.06-.94-2.06-.94L8.5 2.5l-.94 2.06-2.06.94zm10 10l.94 2.06.94-2.06 2.06-.94-2.06-.94-.94-2.06-.94 2.06-2.06.94z\"/><path d=\"M17.41 7.96l-1.37-1.37c-.4-.4-.92-.59-1.43-.59-.52 0-1.04.2-1.43.59L10.3 9.45l-7.72 7.72c-.78.78-.78 2.05 0 2.83L4 21.41c.39.39.9.59 1.41.59.51 0 1.02-.2 1.41-.59l7.78-7.78 2.81-2.81c.8-.78.8-2.07 0-2.86zM5.41 20L4 18.59l7.72-7.72 1.47 1.35L5.41 20z\"/>\n",
       "  </svg>\n",
       "      </button>\n",
       "      \n",
       "  <style>\n",
       "    .colab-df-container {\n",
       "      display:flex;\n",
       "      flex-wrap:wrap;\n",
       "      gap: 12px;\n",
       "    }\n",
       "\n",
       "    .colab-df-convert {\n",
       "      background-color: #E8F0FE;\n",
       "      border: none;\n",
       "      border-radius: 50%;\n",
       "      cursor: pointer;\n",
       "      display: none;\n",
       "      fill: #1967D2;\n",
       "      height: 32px;\n",
       "      padding: 0 0 0 0;\n",
       "      width: 32px;\n",
       "    }\n",
       "\n",
       "    .colab-df-convert:hover {\n",
       "      background-color: #E2EBFA;\n",
       "      box-shadow: 0px 1px 2px rgba(60, 64, 67, 0.3), 0px 1px 3px 1px rgba(60, 64, 67, 0.15);\n",
       "      fill: #174EA6;\n",
       "    }\n",
       "\n",
       "    [theme=dark] .colab-df-convert {\n",
       "      background-color: #3B4455;\n",
       "      fill: #D2E3FC;\n",
       "    }\n",
       "\n",
       "    [theme=dark] .colab-df-convert:hover {\n",
       "      background-color: #434B5C;\n",
       "      box-shadow: 0px 1px 3px 1px rgba(0, 0, 0, 0.15);\n",
       "      filter: drop-shadow(0px 1px 2px rgba(0, 0, 0, 0.3));\n",
       "      fill: #FFFFFF;\n",
       "    }\n",
       "  </style>\n",
       "\n",
       "      <script>\n",
       "        const buttonEl =\n",
       "          document.querySelector('#df-3e42a2c0-b6ee-41fa-b3dc-fe70709d29b8 button.colab-df-convert');\n",
       "        buttonEl.style.display =\n",
       "          google.colab.kernel.accessAllowed ? 'block' : 'none';\n",
       "\n",
       "        async function convertToInteractive(key) {\n",
       "          const element = document.querySelector('#df-3e42a2c0-b6ee-41fa-b3dc-fe70709d29b8');\n",
       "          const dataTable =\n",
       "            await google.colab.kernel.invokeFunction('convertToInteractive',\n",
       "                                                     [key], {});\n",
       "          if (!dataTable) return;\n",
       "\n",
       "          const docLinkHtml = 'Like what you see? Visit the ' +\n",
       "            '<a target=\"_blank\" href=https://colab.research.google.com/notebooks/data_table.ipynb>data table notebook</a>'\n",
       "            + ' to learn more about interactive tables.';\n",
       "          element.innerHTML = '';\n",
       "          dataTable['output_type'] = 'display_data';\n",
       "          await google.colab.output.renderOutput(dataTable, element);\n",
       "          const docLink = document.createElement('div');\n",
       "          docLink.innerHTML = docLinkHtml;\n",
       "          element.appendChild(docLink);\n",
       "        }\n",
       "      </script>\n",
       "    </div>\n",
       "  </div>\n",
       "  "
      ],
      "text/plain": [
       "   param_criterion param_n_estimators param_max_features param_max_depth  \\\n",
       "61         entropy                800               sqrt              20   \n",
       "72         entropy               1000               log2            None   \n",
       "65         entropy                400               sqrt            None   \n",
       "41            gini                800               None              60   \n",
       "37         entropy                900               sqrt             100   \n",
       "\n",
       "   param_min_samples_split param_min_samples_leaf param_bootstrap  \\\n",
       "61                       2                      1           False   \n",
       "72                       2                      1           False   \n",
       "65                       2                      1            True   \n",
       "41                       5                      1            True   \n",
       "37                       2                      2           False   \n",
       "\n",
       "    mean_test_score  std_test_score  rank_test_score  index  \n",
       "61         0.877099        0.005052                1     61  \n",
       "72         0.876673        0.001947                2     72  \n",
       "65         0.867844        0.005215                3     65  \n",
       "41         0.863999        0.008502                4     41  \n",
       "37         0.863998        0.006130                5     37  "
      ]
     },
     "execution_count": 93,
     "metadata": {},
     "output_type": "execute_result"
    }
   ],
   "source": [
    "# Get the parameter names and display parameter values for the 5 best scores\n",
    "column_results = [f\"param_{name}\" for name in rf_random.param_distributions.keys()]\n",
    "column_results += [\"mean_test_score\", \"std_test_score\", \"rank_test_score\"]\n",
    "\n",
    "cv_results= pd.DataFrame(rf_random.cv_results_).sort_values(by='rank_test_score', ascending=True)\n",
    "cv_results = cv_results[column_results].sort_values(\"mean_test_score\", ascending=False)\n",
    "\n",
    "cv_results['index'] = cv_results.index\n",
    "cv_results.head(5)"
   ]
  },
  {
   "cell_type": "code",
   "execution_count": null,
   "metadata": {
    "colab": {
     "base_uri": "https://localhost:8080/",
     "height": 395
    },
    "id": "49d3L6ue3Lri",
    "outputId": "e8607d11-2ef5-4de2-b096-505a4a62aff8"
   },
   "outputs": [
    {
     "data": {
      "image/png": "[encoded data removed]",
      "text/plain": [
       "<Figure size 432x432 with 1 Axes>"
      ]
     },
     "metadata": {},
     "output_type": "display_data"
    }
   ],
   "source": [
    "# Display the lineplot of the mean_test_score overall iterations of the RandomizedSearchCV algorithm\n",
    "sns.set()\n",
    "plt.figure(figsize=(6,6))\n",
    "ax = plt.subplot()\n",
    "sns.lineplot(data=cv_results, x=cv_results['index'], y=cv_results['mean_test_score'])\n",
    "ax.set_xlabel(\"Iteration index\", fontsize = 14)\n",
    "ax.set_ylabel(\"Mean test-score\",fontsize=14)\n",
    "plt.show()"
   ]
  },
  {
   "cell_type": "code",
   "execution_count": null,
   "metadata": {
    "colab": {
     "base_uri": "https://localhost:8080/"
    },
    "id": "m712eIUI272K",
    "outputId": "3269d9c7-4db9-4596-d760-4fdf1f2ae922"
   },
   "outputs": [
    {
     "name": "stdout",
     "output_type": "stream",
     "text": [
      "Improvement of the f1-score (after optimization) is : 1.3%.\n"
     ]
    }
   ],
   "source": [
    "# Compare f1-score accuracy before and after optimization\n",
    "percentRatioChange = 100*(accuracyScore_rf_over_withTuning-accuracyScore_rf_over_noTuning)/accuracyScore_rf_over_noTuning\n",
    "print('Improvement of the f1-score (after optimization) is : {:0.1f}%.'.format(percentRatioChange))"
   ]
  },
  {
   "cell_type": "markdown",
   "metadata": {
    "id": "_Bqvh3J268Sf"
   },
   "source": [
    "\n",
    "\n",
    "---\n",
    "\n",
    "\n",
    "\n",
    "---\n",
    "\n"
   ]
  },
  {
   "cell_type": "markdown",
   "metadata": {
    "id": "0VrEcj7-7RC3"
   },
   "source": [
    "**CONCLUSION**"
   ]
  },
  {
   "cell_type": "markdown",
   "metadata": {
    "id": "10stF0yP7W3g"
   },
   "source": [
    "We have presented a churn prediction machine learning project. We classically constructed our analysis by going through the data audit, exploration and cleaning to the training and evaluation of the machine learning models, and passing by the data visualization. After removing unrelevant information (some observations and features), we performed the model training and optimization following two approaches: 1) Data balancing using the class_weight hyperparameter among others 2) Data balancing using oversampling technique (without use of class-weighting as tunable hyperparameter). In the majority of cases, all models have shown good results(>73.4% which is the low threshold -> percent of customer which do not have resiliated their contract). The best results have been obtained using a beforehand oversampled dataset and the Random Forest Classifier after hyperparameters optimization with a f1-score accuracy of 0.90. That is means the model configuration used is efficient. In the present case, the class-weight tuning do not lead to an significant improvement of the model training.   "
   ]
  }
 ],
 "metadata": {
  "colab": {
   "collapsed_sections": [],
   "provenance": []
  },
  "kernelspec": {
   "display_name": "Python 3 (ipykernel)",
   "language": "python",
   "name": "python3"
  },
  "language_info": {
   "codemirror_mode": {
    "name": "ipython",
    "version": 3
   },
   "file_extension": ".py",
   "mimetype": "text/x-python",
   "name": "python",
   "nbconvert_exporter": "python",
   "pygments_lexer": "ipython3",
   "version": "3.9.12"
  }
 },
 "nbformat": 4,
 "nbformat_minor": 1
}
